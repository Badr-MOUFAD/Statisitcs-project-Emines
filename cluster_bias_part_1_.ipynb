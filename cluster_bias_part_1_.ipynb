{
  "nbformat": 4,
  "nbformat_minor": 0,
  "metadata": {
    "kernelspec": {
      "display_name": "Python 3",
      "language": "python",
      "name": "python3"
    },
    "language_info": {
      "codemirror_mode": {
        "name": "ipython",
        "version": 3
      },
      "file_extension": ".py",
      "mimetype": "text/x-python",
      "name": "python",
      "nbconvert_exporter": "python",
      "pygments_lexer": "ipython3",
      "version": "3.8.3"
    },
    "colab": {
      "name": "cluster bias - part 1 .ipynb",
      "provenance": [],
      "include_colab_link": true
    }
  },
  "cells": [
    {
      "cell_type": "markdown",
      "metadata": {
        "id": "view-in-github",
        "colab_type": "text"
      },
      "source": [
        "<a href=\"https://colab.research.google.com/github/AnasAito/Statisitcs-project-Emines/blob/main/cluster_bias_part_1_.ipynb\" target=\"_parent\"><img src=\"https://colab.research.google.com/assets/colab-badge.svg\" alt=\"Open In Colab\"/></a>"
      ]
    },
    {
      "cell_type": "code",
      "metadata": {
        "id": "uJbDPkaW4-H4"
      },
      "source": [
        "import pandas as pd \n",
        "data = pd.read_table('./paper_data.csv',sep=';',header=0)"
      ],
      "execution_count": null,
      "outputs": []
    },
    {
      "cell_type": "code",
      "metadata": {
        "id": "MkG4L9Nj4-IB",
        "outputId": "208a8178-56de-483e-f818-17782d1cbec9"
      },
      "source": [
        "from sklearn import preprocessing\n",
        "scaler = preprocessing.MinMaxScaler()\n",
        "stabilo_clust=data[data.columns[12:]]\n",
        "names = stabilo_clust.columns\n",
        "d = scaler.fit_transform(stabilo_clust)\n",
        "stabilo_nor = pd.DataFrame(d, columns=names)\n",
        "\n",
        "from sklearn.decomposition import PCA\n",
        "X = stabilo_nor.values.T\n",
        "pca = PCA(n_components=3)\n",
        "pca.fit(X)"
      ],
      "execution_count": null,
      "outputs": [
        {
          "output_type": "execute_result",
          "data": {
            "text/plain": [
              "PCA(n_components=3)"
            ]
          },
          "metadata": {
            "tags": []
          },
          "execution_count": 2
        }
      ]
    },
    {
      "cell_type": "code",
      "metadata": {
        "id": "Ue1e-Hqr4-ID"
      },
      "source": [
        "import pickle \n",
        "with open('./class.pickle', 'rb') as handle:\n",
        "    b = pickle.load(handle)\n",
        "    \n",
        "# get variable cluster id \n",
        "def get_key(col):\n",
        "\n",
        "    c=0\n",
        "    for key, value in b.items():\n",
        "            if col in value:\n",
        "                return key \n",
        "            else : \n",
        "                c=1\n",
        "    if c==0 :\n",
        "        return 'stochastic'\n",
        "\n",
        "                \n",
        "           \n",
        "            \n",
        "real_clusters = [get_key(col) for col in  data[data.columns[12:]].columns]\n",
        "\n",
        "clust = []\n",
        "for val in real_clusters :\n",
        "    if val is None :\n",
        "        new_v='position'\n",
        "    else :\n",
        "        new_v = val\n",
        "    clust.append(new_v)"
      ],
      "execution_count": null,
      "outputs": []
    },
    {
      "cell_type": "code",
      "metadata": {
        "id": "jyQzfsgE4-IF",
        "outputId": "bb355d29-8b58-4b97-e7ac-5b0d55a79a8b"
      },
      "source": [
        "\n",
        "\n",
        "da = {'x':pca.fit_transform(X)[::,0],'y':pca.fit_transform(X)[::,1],'z':pca.fit_transform(X)[::,2],'cluster':clust}\n",
        "new_data =  pd.DataFrame.from_dict(da)\n",
        "\n",
        "import plotly.express as px\n",
        "fig = px.scatter(new_data, x=\"x\", y=\"y\",color='cluster',title='data variables projection on two first pca comps' )\n",
        "\n",
        "fig.show()"
      ],
      "execution_count": null,
      "outputs": [
        {
          "output_type": "display_data",
          "data": {
            "application/vnd.plotly.v1+json": {
              "config": {
                "plotlyServerURL": "https://plot.ly"
              },
              "data": [
                {
                  "hovertemplate": "cluster=dynamic<br>x=%{x}<br>y=%{y}<extra></extra>",
                  "legendgroup": "dynamic",
                  "marker": {
                    "color": "#636efa",
                    "symbol": "circle"
                  },
                  "mode": "markers",
                  "name": "dynamic",
                  "orientation": "v",
                  "showlegend": true,
                  "type": "scatter",
                  "x": [
                    2.335020997663823,
                    1.1234749891846623,
                    3.980919484261214,
                    -1.1442109456487228,
                    0.24156240565478002,
                    -0.4400868941618449,
                    -0.17663385973423268,
                    -1.3037525782738193,
                    0.47257791385237036,
                    -1.2731348103567615,
                    0.3656197199048797,
                    -1.307532359352439,
                    0.5441392019735897,
                    1.0621853946894018,
                    -1.3529333805663828,
                    -1.1052707362053034,
                    0.30540132505365686,
                    1.2779391070105333,
                    1.4087226847600829,
                    1.0640570996800394,
                    1.6565773626748568,
                    1.7453264500121548,
                    2.827297292438979,
                    2.117841577353018,
                    3.1281706069684323,
                    -1.1047181784814186,
                    -0.8325594696098992,
                    -0.778802251122764,
                    -1.4896434545277275,
                    -0.6020498426380096,
                    -0.6069561790107154,
                    -1.229254310802281,
                    -0.8821963980333788,
                    -1.2431700970095734,
                    -0.9691038797462733,
                    -1.2258248801073177,
                    -0.8043742036199552,
                    0.8390214577868012,
                    -0.5018929867644326,
                    -1.5913079364893687,
                    -1.2777972803239284,
                    -0.8037360491779134,
                    2.1298194006456286,
                    0.9190037466453129,
                    0.8698455233431392,
                    1.4352996750899873,
                    0.9892056308890366
                  ],
                  "xaxis": "x",
                  "y": [
                    1.0374080003570538,
                    0.8792687721036887,
                    -0.030123851166618955,
                    -0.23199227473309691,
                    -0.6766541115502992,
                    -0.6060786503074381,
                    -1.3941120292797025,
                    -0.08401019331137384,
                    -0.6849785361003224,
                    -0.11728995781584431,
                    -0.6448672849535083,
                    -0.061005185082140846,
                    -0.696665644972878,
                    0.8050030085184599,
                    -0.5047066541944822,
                    -0.3605046097564933,
                    -0.8770417518359997,
                    1.0700223378285516,
                    0.885330613658612,
                    0.9867060212629067,
                    0.8556193380705776,
                    1.0232448039321123,
                    0.8449839809550284,
                    0.7408666322852554,
                    -0.6315782166424903,
                    -0.25168859817487366,
                    0.502987105796252,
                    0.22040236155620133,
                    0.09449035135224715,
                    -0.2861636961005306,
                    -0.6383660789212338,
                    -0.18108686396893758,
                    0.5290586004590768,
                    -0.11117304324074571,
                    0.5851085916142693,
                    -0.19089378117782035,
                    0.49553074557209537,
                    0.6280807718391146,
                    -0.5684560600921227,
                    0.1691020097040778,
                    -0.14311226977161545,
                    0.4217089244279167,
                    0.7774727368613263,
                    0.9441492408213924,
                    0.940767369298619,
                    0.7843857713612434,
                    0.9578464112377769
                  ],
                  "yaxis": "y"
                },
                {
                  "hovertemplate": "cluster=frequency<br>x=%{x}<br>y=%{y}<extra></extra>",
                  "legendgroup": "frequency",
                  "marker": {
                    "color": "#EF553B",
                    "symbol": "circle"
                  },
                  "mode": "markers",
                  "name": "frequency",
                  "orientation": "v",
                  "showlegend": true,
                  "type": "scatter",
                  "x": [
                    -0.025318174668818,
                    -0.6362439306594679,
                    -1.8015129091486477,
                    -1.2309190905985368,
                    1.5587430135277311,
                    0.1777722931769006,
                    0.02989046381260909,
                    0.48004618599922527,
                    0.7811505292318587,
                    1.1134780411235325,
                    3.507747180969369,
                    3.151501196919815,
                    -1.8172654902611725,
                    -1.2557189417162478,
                    -1.668090470751242,
                    -1.042329114171803,
                    -1.7826510872483117,
                    -0.8839651142810547,
                    -0.8703596513753884,
                    -0.6978123741943224,
                    0.4081988696361912,
                    -0.6970678294212753,
                    -1.7674274601148503,
                    -1.4177859045409285,
                    1.6458936502124752,
                    1.1323346929024602,
                    0.3887983515902774,
                    0.9813620950172766,
                    1.555035138899118,
                    1.188820377842713,
                    4.778352594879084,
                    3.5453415160295014,
                    -1.7868418424326638,
                    -1.4891566513429189,
                    -1.7885679419496532,
                    -1.3158734163168424,
                    -1.8756510640148345,
                    -1.6087307375756421,
                    -0.7677939517295032,
                    -1.0582596227471905
                  ],
                  "xaxis": "x",
                  "y": [
                    0.9374345819649968,
                    0.7451839568792276,
                    0.07603517988981566,
                    -0.3818490628029831,
                    0.968743009792498,
                    0.7937110560020849,
                    0.7389886447298449,
                    0.7949532430637747,
                    0.9439981661252901,
                    0.8532495364626289,
                    -0.7180388104430333,
                    -0.5843273294022397,
                    0.10569810051482079,
                    -0.4274781943070093,
                    0.2173522209395939,
                    -0.06521085196250653,
                    0.34956012619226245,
                    0.14631819033107807,
                    1.0286389051137192,
                    1.0529034727316267,
                    0.8093566043761296,
                    0.9744789630228632,
                    -0.06306507528691174,
                    0.08654668605934031,
                    0.45150856528971234,
                    0.851997744894349,
                    0.7732395735658504,
                    0.6856414462213195,
                    0.7270310814847922,
                    0.7461492774981755,
                    -0.7968666924827043,
                    -0.695657312284772,
                    0.15284707005961584,
                    0.033676792804775535,
                    0.3198971345153884,
                    0.33613891588219086,
                    0.48042979335271074,
                    0.9092697964640688,
                    0.843129351500528,
                    1.0130111231492587
                  ],
                  "yaxis": "y"
                },
                {
                  "hovertemplate": "cluster=position<br>x=%{x}<br>y=%{y}<extra></extra>",
                  "legendgroup": "position",
                  "marker": {
                    "color": "#00cc96",
                    "symbol": "circle"
                  },
                  "mode": "markers",
                  "name": "position",
                  "orientation": "v",
                  "showlegend": true,
                  "type": "scatter",
                  "x": [
                    -1.3335260859640752,
                    -0.7746775849205195,
                    0.5154102870608593,
                    -0.43473681514571205,
                    -0.9266015612499671,
                    0.08819966342223377,
                    -0.2990473823639423,
                    -0.8454101031561945,
                    0.14614853199784295,
                    -0.17663385972806936,
                    -0.8787203760547876,
                    0.17209360705402746,
                    -0.510029467523521,
                    -1.1442109456487228,
                    0.24156240565478107,
                    -0.44008689416184515,
                    -1.4281149103362492,
                    0.02065708357445522,
                    -0.5651496149842393,
                    0.22813124166053644,
                    1.4756509851864958,
                    -1.640440754246751,
                    -1.2846153258868949,
                    0.2997726951854865,
                    -0.8236799393233665,
                    -1.138112222728459,
                    -0.0849355219098932,
                    -0.6907968996318934,
                    -1.1313360494951148,
                    -0.07449468468957927,
                    -0.6069561790132256,
                    -1.291526303619318,
                    0.23489330063459032,
                    -0.6915225854534849,
                    -1.1047181784814186,
                    -0.8325594696098995,
                    -0.7788022511227638,
                    1.113668459413379,
                    1.2561473479920344
                  ],
                  "xaxis": "x",
                  "y": [
                    -0.6653729251914146,
                    -0.6944708354629882,
                    -1.4300517293097177,
                    -0.8436099675564186,
                    -0.6729404545436715,
                    -1.0828437221921865,
                    -1.3047266348495428,
                    -0.7696481360052295,
                    -1.1431088318026557,
                    -1.3941120292799982,
                    -0.600228964627338,
                    -1.1541797955478217,
                    -0.7781235640434054,
                    -0.23199227473309697,
                    -0.6766541115502999,
                    -0.6060786503074381,
                    -0.1460913062801027,
                    -0.313254791579593,
                    -0.93172269158842,
                    1.594954482548039,
                    0.8079932763650283,
                    0.07556127048273582,
                    -0.23310093120734346,
                    -1.057133899896658,
                    -0.3625462904080962,
                    -0.34041459951909314,
                    -0.9203750803841595,
                    -0.5629991155166517,
                    -0.38729181997211354,
                    -0.9039651892478516,
                    -0.6383660789144249,
                    -0.26856035644237997,
                    -0.9699180009091325,
                    -0.47074259176214606,
                    -0.2516885981748738,
                    0.5029871057962522,
                    0.22040236155620138,
                    1.5337077626513491,
                    0.8095416064274725
                  ],
                  "yaxis": "y"
                },
                {
                  "hovertemplate": "cluster=stochastic<br>x=%{x}<br>y=%{y}<extra></extra>",
                  "legendgroup": "stochastic",
                  "marker": {
                    "color": "#ab63fa",
                    "symbol": "circle"
                  },
                  "mode": "markers",
                  "name": "stochastic",
                  "orientation": "v",
                  "showlegend": true,
                  "type": "scatter",
                  "x": [
                    -1.6730682134059542,
                    2.2019574756452953,
                    -0.5829720884384192,
                    -1.7798797825912607,
                    0.8389975718153457,
                    -0.972091471244141,
                    2.7919380164167134,
                    -0.39585899540883934,
                    -1.33304433788041,
                    3.7215373938710057,
                    -1.7927149149846666,
                    6.073282403723145,
                    0.8118560738607199,
                    -1.8825202268151204,
                    3.836030890710856,
                    -1.3174170462092083,
                    0.18439521207633558,
                    -0.037248257753064645,
                    -1.239254998072565,
                    2.7539721460166966
                  ],
                  "xaxis": "x",
                  "y": [
                    -0.2152414315835871,
                    -0.673708539944587,
                    0.08207306445145493,
                    0.027661180829928123,
                    -0.12966718313641723,
                    -0.5442292998486443,
                    -0.6955617397239386,
                    -0.06185017479986451,
                    -0.3848739109944551,
                    -0.8261104986931076,
                    0.01755591410117366,
                    -1.3140226628514382,
                    -0.4116392035917742,
                    0.3588920197032522,
                    -0.6947269410223476,
                    0.5154597962388747,
                    -0.17358891770575272,
                    -0.3032228684639271,
                    -0.10461403324679723,
                    -0.6290386063643402
                  ],
                  "yaxis": "y"
                }
              ],
              "layout": {
                "legend": {
                  "title": {
                    "text": "cluster"
                  },
                  "tracegroupgap": 0
                },
                "template": {
                  "data": {
                    "bar": [
                      {
                        "error_x": {
                          "color": "#2a3f5f"
                        },
                        "error_y": {
                          "color": "#2a3f5f"
                        },
                        "marker": {
                          "line": {
                            "color": "#E5ECF6",
                            "width": 0.5
                          }
                        },
                        "type": "bar"
                      }
                    ],
                    "barpolar": [
                      {
                        "marker": {
                          "line": {
                            "color": "#E5ECF6",
                            "width": 0.5
                          }
                        },
                        "type": "barpolar"
                      }
                    ],
                    "carpet": [
                      {
                        "aaxis": {
                          "endlinecolor": "#2a3f5f",
                          "gridcolor": "white",
                          "linecolor": "white",
                          "minorgridcolor": "white",
                          "startlinecolor": "#2a3f5f"
                        },
                        "baxis": {
                          "endlinecolor": "#2a3f5f",
                          "gridcolor": "white",
                          "linecolor": "white",
                          "minorgridcolor": "white",
                          "startlinecolor": "#2a3f5f"
                        },
                        "type": "carpet"
                      }
                    ],
                    "choropleth": [
                      {
                        "colorbar": {
                          "outlinewidth": 0,
                          "ticks": ""
                        },
                        "type": "choropleth"
                      }
                    ],
                    "contour": [
                      {
                        "colorbar": {
                          "outlinewidth": 0,
                          "ticks": ""
                        },
                        "colorscale": [
                          [
                            0,
                            "#0d0887"
                          ],
                          [
                            0.1111111111111111,
                            "#46039f"
                          ],
                          [
                            0.2222222222222222,
                            "#7201a8"
                          ],
                          [
                            0.3333333333333333,
                            "#9c179e"
                          ],
                          [
                            0.4444444444444444,
                            "#bd3786"
                          ],
                          [
                            0.5555555555555556,
                            "#d8576b"
                          ],
                          [
                            0.6666666666666666,
                            "#ed7953"
                          ],
                          [
                            0.7777777777777778,
                            "#fb9f3a"
                          ],
                          [
                            0.8888888888888888,
                            "#fdca26"
                          ],
                          [
                            1,
                            "#f0f921"
                          ]
                        ],
                        "type": "contour"
                      }
                    ],
                    "contourcarpet": [
                      {
                        "colorbar": {
                          "outlinewidth": 0,
                          "ticks": ""
                        },
                        "type": "contourcarpet"
                      }
                    ],
                    "heatmap": [
                      {
                        "colorbar": {
                          "outlinewidth": 0,
                          "ticks": ""
                        },
                        "colorscale": [
                          [
                            0,
                            "#0d0887"
                          ],
                          [
                            0.1111111111111111,
                            "#46039f"
                          ],
                          [
                            0.2222222222222222,
                            "#7201a8"
                          ],
                          [
                            0.3333333333333333,
                            "#9c179e"
                          ],
                          [
                            0.4444444444444444,
                            "#bd3786"
                          ],
                          [
                            0.5555555555555556,
                            "#d8576b"
                          ],
                          [
                            0.6666666666666666,
                            "#ed7953"
                          ],
                          [
                            0.7777777777777778,
                            "#fb9f3a"
                          ],
                          [
                            0.8888888888888888,
                            "#fdca26"
                          ],
                          [
                            1,
                            "#f0f921"
                          ]
                        ],
                        "type": "heatmap"
                      }
                    ],
                    "heatmapgl": [
                      {
                        "colorbar": {
                          "outlinewidth": 0,
                          "ticks": ""
                        },
                        "colorscale": [
                          [
                            0,
                            "#0d0887"
                          ],
                          [
                            0.1111111111111111,
                            "#46039f"
                          ],
                          [
                            0.2222222222222222,
                            "#7201a8"
                          ],
                          [
                            0.3333333333333333,
                            "#9c179e"
                          ],
                          [
                            0.4444444444444444,
                            "#bd3786"
                          ],
                          [
                            0.5555555555555556,
                            "#d8576b"
                          ],
                          [
                            0.6666666666666666,
                            "#ed7953"
                          ],
                          [
                            0.7777777777777778,
                            "#fb9f3a"
                          ],
                          [
                            0.8888888888888888,
                            "#fdca26"
                          ],
                          [
                            1,
                            "#f0f921"
                          ]
                        ],
                        "type": "heatmapgl"
                      }
                    ],
                    "histogram": [
                      {
                        "marker": {
                          "colorbar": {
                            "outlinewidth": 0,
                            "ticks": ""
                          }
                        },
                        "type": "histogram"
                      }
                    ],
                    "histogram2d": [
                      {
                        "colorbar": {
                          "outlinewidth": 0,
                          "ticks": ""
                        },
                        "colorscale": [
                          [
                            0,
                            "#0d0887"
                          ],
                          [
                            0.1111111111111111,
                            "#46039f"
                          ],
                          [
                            0.2222222222222222,
                            "#7201a8"
                          ],
                          [
                            0.3333333333333333,
                            "#9c179e"
                          ],
                          [
                            0.4444444444444444,
                            "#bd3786"
                          ],
                          [
                            0.5555555555555556,
                            "#d8576b"
                          ],
                          [
                            0.6666666666666666,
                            "#ed7953"
                          ],
                          [
                            0.7777777777777778,
                            "#fb9f3a"
                          ],
                          [
                            0.8888888888888888,
                            "#fdca26"
                          ],
                          [
                            1,
                            "#f0f921"
                          ]
                        ],
                        "type": "histogram2d"
                      }
                    ],
                    "histogram2dcontour": [
                      {
                        "colorbar": {
                          "outlinewidth": 0,
                          "ticks": ""
                        },
                        "colorscale": [
                          [
                            0,
                            "#0d0887"
                          ],
                          [
                            0.1111111111111111,
                            "#46039f"
                          ],
                          [
                            0.2222222222222222,
                            "#7201a8"
                          ],
                          [
                            0.3333333333333333,
                            "#9c179e"
                          ],
                          [
                            0.4444444444444444,
                            "#bd3786"
                          ],
                          [
                            0.5555555555555556,
                            "#d8576b"
                          ],
                          [
                            0.6666666666666666,
                            "#ed7953"
                          ],
                          [
                            0.7777777777777778,
                            "#fb9f3a"
                          ],
                          [
                            0.8888888888888888,
                            "#fdca26"
                          ],
                          [
                            1,
                            "#f0f921"
                          ]
                        ],
                        "type": "histogram2dcontour"
                      }
                    ],
                    "mesh3d": [
                      {
                        "colorbar": {
                          "outlinewidth": 0,
                          "ticks": ""
                        },
                        "type": "mesh3d"
                      }
                    ],
                    "parcoords": [
                      {
                        "line": {
                          "colorbar": {
                            "outlinewidth": 0,
                            "ticks": ""
                          }
                        },
                        "type": "parcoords"
                      }
                    ],
                    "pie": [
                      {
                        "automargin": true,
                        "type": "pie"
                      }
                    ],
                    "scatter": [
                      {
                        "marker": {
                          "colorbar": {
                            "outlinewidth": 0,
                            "ticks": ""
                          }
                        },
                        "type": "scatter"
                      }
                    ],
                    "scatter3d": [
                      {
                        "line": {
                          "colorbar": {
                            "outlinewidth": 0,
                            "ticks": ""
                          }
                        },
                        "marker": {
                          "colorbar": {
                            "outlinewidth": 0,
                            "ticks": ""
                          }
                        },
                        "type": "scatter3d"
                      }
                    ],
                    "scattercarpet": [
                      {
                        "marker": {
                          "colorbar": {
                            "outlinewidth": 0,
                            "ticks": ""
                          }
                        },
                        "type": "scattercarpet"
                      }
                    ],
                    "scattergeo": [
                      {
                        "marker": {
                          "colorbar": {
                            "outlinewidth": 0,
                            "ticks": ""
                          }
                        },
                        "type": "scattergeo"
                      }
                    ],
                    "scattergl": [
                      {
                        "marker": {
                          "colorbar": {
                            "outlinewidth": 0,
                            "ticks": ""
                          }
                        },
                        "type": "scattergl"
                      }
                    ],
                    "scattermapbox": [
                      {
                        "marker": {
                          "colorbar": {
                            "outlinewidth": 0,
                            "ticks": ""
                          }
                        },
                        "type": "scattermapbox"
                      }
                    ],
                    "scatterpolar": [
                      {
                        "marker": {
                          "colorbar": {
                            "outlinewidth": 0,
                            "ticks": ""
                          }
                        },
                        "type": "scatterpolar"
                      }
                    ],
                    "scatterpolargl": [
                      {
                        "marker": {
                          "colorbar": {
                            "outlinewidth": 0,
                            "ticks": ""
                          }
                        },
                        "type": "scatterpolargl"
                      }
                    ],
                    "scatterternary": [
                      {
                        "marker": {
                          "colorbar": {
                            "outlinewidth": 0,
                            "ticks": ""
                          }
                        },
                        "type": "scatterternary"
                      }
                    ],
                    "surface": [
                      {
                        "colorbar": {
                          "outlinewidth": 0,
                          "ticks": ""
                        },
                        "colorscale": [
                          [
                            0,
                            "#0d0887"
                          ],
                          [
                            0.1111111111111111,
                            "#46039f"
                          ],
                          [
                            0.2222222222222222,
                            "#7201a8"
                          ],
                          [
                            0.3333333333333333,
                            "#9c179e"
                          ],
                          [
                            0.4444444444444444,
                            "#bd3786"
                          ],
                          [
                            0.5555555555555556,
                            "#d8576b"
                          ],
                          [
                            0.6666666666666666,
                            "#ed7953"
                          ],
                          [
                            0.7777777777777778,
                            "#fb9f3a"
                          ],
                          [
                            0.8888888888888888,
                            "#fdca26"
                          ],
                          [
                            1,
                            "#f0f921"
                          ]
                        ],
                        "type": "surface"
                      }
                    ],
                    "table": [
                      {
                        "cells": {
                          "fill": {
                            "color": "#EBF0F8"
                          },
                          "line": {
                            "color": "white"
                          }
                        },
                        "header": {
                          "fill": {
                            "color": "#C8D4E3"
                          },
                          "line": {
                            "color": "white"
                          }
                        },
                        "type": "table"
                      }
                    ]
                  },
                  "layout": {
                    "annotationdefaults": {
                      "arrowcolor": "#2a3f5f",
                      "arrowhead": 0,
                      "arrowwidth": 1
                    },
                    "coloraxis": {
                      "colorbar": {
                        "outlinewidth": 0,
                        "ticks": ""
                      }
                    },
                    "colorscale": {
                      "diverging": [
                        [
                          0,
                          "#8e0152"
                        ],
                        [
                          0.1,
                          "#c51b7d"
                        ],
                        [
                          0.2,
                          "#de77ae"
                        ],
                        [
                          0.3,
                          "#f1b6da"
                        ],
                        [
                          0.4,
                          "#fde0ef"
                        ],
                        [
                          0.5,
                          "#f7f7f7"
                        ],
                        [
                          0.6,
                          "#e6f5d0"
                        ],
                        [
                          0.7,
                          "#b8e186"
                        ],
                        [
                          0.8,
                          "#7fbc41"
                        ],
                        [
                          0.9,
                          "#4d9221"
                        ],
                        [
                          1,
                          "#276419"
                        ]
                      ],
                      "sequential": [
                        [
                          0,
                          "#0d0887"
                        ],
                        [
                          0.1111111111111111,
                          "#46039f"
                        ],
                        [
                          0.2222222222222222,
                          "#7201a8"
                        ],
                        [
                          0.3333333333333333,
                          "#9c179e"
                        ],
                        [
                          0.4444444444444444,
                          "#bd3786"
                        ],
                        [
                          0.5555555555555556,
                          "#d8576b"
                        ],
                        [
                          0.6666666666666666,
                          "#ed7953"
                        ],
                        [
                          0.7777777777777778,
                          "#fb9f3a"
                        ],
                        [
                          0.8888888888888888,
                          "#fdca26"
                        ],
                        [
                          1,
                          "#f0f921"
                        ]
                      ],
                      "sequentialminus": [
                        [
                          0,
                          "#0d0887"
                        ],
                        [
                          0.1111111111111111,
                          "#46039f"
                        ],
                        [
                          0.2222222222222222,
                          "#7201a8"
                        ],
                        [
                          0.3333333333333333,
                          "#9c179e"
                        ],
                        [
                          0.4444444444444444,
                          "#bd3786"
                        ],
                        [
                          0.5555555555555556,
                          "#d8576b"
                        ],
                        [
                          0.6666666666666666,
                          "#ed7953"
                        ],
                        [
                          0.7777777777777778,
                          "#fb9f3a"
                        ],
                        [
                          0.8888888888888888,
                          "#fdca26"
                        ],
                        [
                          1,
                          "#f0f921"
                        ]
                      ]
                    },
                    "colorway": [
                      "#636efa",
                      "#EF553B",
                      "#00cc96",
                      "#ab63fa",
                      "#FFA15A",
                      "#19d3f3",
                      "#FF6692",
                      "#B6E880",
                      "#FF97FF",
                      "#FECB52"
                    ],
                    "font": {
                      "color": "#2a3f5f"
                    },
                    "geo": {
                      "bgcolor": "white",
                      "lakecolor": "white",
                      "landcolor": "#E5ECF6",
                      "showlakes": true,
                      "showland": true,
                      "subunitcolor": "white"
                    },
                    "hoverlabel": {
                      "align": "left"
                    },
                    "hovermode": "closest",
                    "mapbox": {
                      "style": "light"
                    },
                    "paper_bgcolor": "white",
                    "plot_bgcolor": "#E5ECF6",
                    "polar": {
                      "angularaxis": {
                        "gridcolor": "white",
                        "linecolor": "white",
                        "ticks": ""
                      },
                      "bgcolor": "#E5ECF6",
                      "radialaxis": {
                        "gridcolor": "white",
                        "linecolor": "white",
                        "ticks": ""
                      }
                    },
                    "scene": {
                      "xaxis": {
                        "backgroundcolor": "#E5ECF6",
                        "gridcolor": "white",
                        "gridwidth": 2,
                        "linecolor": "white",
                        "showbackground": true,
                        "ticks": "",
                        "zerolinecolor": "white"
                      },
                      "yaxis": {
                        "backgroundcolor": "#E5ECF6",
                        "gridcolor": "white",
                        "gridwidth": 2,
                        "linecolor": "white",
                        "showbackground": true,
                        "ticks": "",
                        "zerolinecolor": "white"
                      },
                      "zaxis": {
                        "backgroundcolor": "#E5ECF6",
                        "gridcolor": "white",
                        "gridwidth": 2,
                        "linecolor": "white",
                        "showbackground": true,
                        "ticks": "",
                        "zerolinecolor": "white"
                      }
                    },
                    "shapedefaults": {
                      "line": {
                        "color": "#2a3f5f"
                      }
                    },
                    "ternary": {
                      "aaxis": {
                        "gridcolor": "white",
                        "linecolor": "white",
                        "ticks": ""
                      },
                      "baxis": {
                        "gridcolor": "white",
                        "linecolor": "white",
                        "ticks": ""
                      },
                      "bgcolor": "#E5ECF6",
                      "caxis": {
                        "gridcolor": "white",
                        "linecolor": "white",
                        "ticks": ""
                      }
                    },
                    "title": {
                      "x": 0.05
                    },
                    "xaxis": {
                      "automargin": true,
                      "gridcolor": "white",
                      "linecolor": "white",
                      "ticks": "",
                      "title": {
                        "standoff": 15
                      },
                      "zerolinecolor": "white",
                      "zerolinewidth": 2
                    },
                    "yaxis": {
                      "automargin": true,
                      "gridcolor": "white",
                      "linecolor": "white",
                      "ticks": "",
                      "title": {
                        "standoff": 15
                      },
                      "zerolinecolor": "white",
                      "zerolinewidth": 2
                    }
                  }
                },
                "title": {
                  "text": "data variables projection on two first pca comps"
                },
                "xaxis": {
                  "anchor": "y",
                  "domain": [
                    0,
                    1
                  ],
                  "title": {
                    "text": "x"
                  }
                },
                "yaxis": {
                  "anchor": "x",
                  "domain": [
                    0,
                    1
                  ],
                  "title": {
                    "text": "y"
                  }
                }
              }
            },
            "text/html": [
              "<div>                            <div id=\"d6abb30c-a02d-43b8-b878-38929d7d7830\" class=\"plotly-graph-div\" style=\"height:525px; width:100%;\"></div>            <script type=\"text/javascript\">                require([\"plotly\"], function(Plotly) {                    window.PLOTLYENV=window.PLOTLYENV || {};                                    if (document.getElementById(\"d6abb30c-a02d-43b8-b878-38929d7d7830\")) {                    Plotly.newPlot(                        \"d6abb30c-a02d-43b8-b878-38929d7d7830\",                        [{\"hovertemplate\": \"cluster=dynamic<br>x=%{x}<br>y=%{y}<extra></extra>\", \"legendgroup\": \"dynamic\", \"marker\": {\"color\": \"#636efa\", \"symbol\": \"circle\"}, \"mode\": \"markers\", \"name\": \"dynamic\", \"orientation\": \"v\", \"showlegend\": true, \"type\": \"scatter\", \"x\": [2.335020997663823, 1.1234749891846623, 3.980919484261214, -1.1442109456487228, 0.24156240565478002, -0.4400868941618449, -0.17663385973423268, -1.3037525782738193, 0.47257791385237036, -1.2731348103567615, 0.3656197199048797, -1.307532359352439, 0.5441392019735897, 1.0621853946894018, -1.3529333805663828, -1.1052707362053034, 0.30540132505365686, 1.2779391070105333, 1.4087226847600829, 1.0640570996800394, 1.6565773626748568, 1.7453264500121548, 2.827297292438979, 2.117841577353018, 3.1281706069684323, -1.1047181784814186, -0.8325594696098992, -0.778802251122764, -1.4896434545277275, -0.6020498426380096, -0.6069561790107154, -1.229254310802281, -0.8821963980333788, -1.2431700970095734, -0.9691038797462733, -1.2258248801073177, -0.8043742036199552, 0.8390214577868012, -0.5018929867644326, -1.5913079364893687, -1.2777972803239284, -0.8037360491779134, 2.1298194006456286, 0.9190037466453129, 0.8698455233431392, 1.4352996750899873, 0.9892056308890366], \"xaxis\": \"x\", \"y\": [1.0374080003570538, 0.8792687721036887, -0.030123851166618955, -0.23199227473309691, -0.6766541115502992, -0.6060786503074381, -1.3941120292797025, -0.08401019331137384, -0.6849785361003224, -0.11728995781584431, -0.6448672849535083, -0.061005185082140846, -0.696665644972878, 0.8050030085184599, -0.5047066541944822, -0.3605046097564933, -0.8770417518359997, 1.0700223378285516, 0.885330613658612, 0.9867060212629067, 0.8556193380705776, 1.0232448039321123, 0.8449839809550284, 0.7408666322852554, -0.6315782166424903, -0.25168859817487366, 0.502987105796252, 0.22040236155620133, 0.09449035135224715, -0.2861636961005306, -0.6383660789212338, -0.18108686396893758, 0.5290586004590768, -0.11117304324074571, 0.5851085916142693, -0.19089378117782035, 0.49553074557209537, 0.6280807718391146, -0.5684560600921227, 0.1691020097040778, -0.14311226977161545, 0.4217089244279167, 0.7774727368613263, 0.9441492408213924, 0.940767369298619, 0.7843857713612434, 0.9578464112377769], \"yaxis\": \"y\"}, {\"hovertemplate\": \"cluster=frequency<br>x=%{x}<br>y=%{y}<extra></extra>\", \"legendgroup\": \"frequency\", \"marker\": {\"color\": \"#EF553B\", \"symbol\": \"circle\"}, \"mode\": \"markers\", \"name\": \"frequency\", \"orientation\": \"v\", \"showlegend\": true, \"type\": \"scatter\", \"x\": [-0.025318174668818, -0.6362439306594679, -1.8015129091486477, -1.2309190905985368, 1.5587430135277311, 0.1777722931769006, 0.02989046381260909, 0.48004618599922527, 0.7811505292318587, 1.1134780411235325, 3.507747180969369, 3.151501196919815, -1.8172654902611725, -1.2557189417162478, -1.668090470751242, -1.042329114171803, -1.7826510872483117, -0.8839651142810547, -0.8703596513753884, -0.6978123741943224, 0.4081988696361912, -0.6970678294212753, -1.7674274601148503, -1.4177859045409285, 1.6458936502124752, 1.1323346929024602, 0.3887983515902774, 0.9813620950172766, 1.555035138899118, 1.188820377842713, 4.778352594879084, 3.5453415160295014, -1.7868418424326638, -1.4891566513429189, -1.7885679419496532, -1.3158734163168424, -1.8756510640148345, -1.6087307375756421, -0.7677939517295032, -1.0582596227471905], \"xaxis\": \"x\", \"y\": [0.9374345819649968, 0.7451839568792276, 0.07603517988981566, -0.3818490628029831, 0.968743009792498, 0.7937110560020849, 0.7389886447298449, 0.7949532430637747, 0.9439981661252901, 0.8532495364626289, -0.7180388104430333, -0.5843273294022397, 0.10569810051482079, -0.4274781943070093, 0.2173522209395939, -0.06521085196250653, 0.34956012619226245, 0.14631819033107807, 1.0286389051137192, 1.0529034727316267, 0.8093566043761296, 0.9744789630228632, -0.06306507528691174, 0.08654668605934031, 0.45150856528971234, 0.851997744894349, 0.7732395735658504, 0.6856414462213195, 0.7270310814847922, 0.7461492774981755, -0.7968666924827043, -0.695657312284772, 0.15284707005961584, 0.033676792804775535, 0.3198971345153884, 0.33613891588219086, 0.48042979335271074, 0.9092697964640688, 0.843129351500528, 1.0130111231492587], \"yaxis\": \"y\"}, {\"hovertemplate\": \"cluster=position<br>x=%{x}<br>y=%{y}<extra></extra>\", \"legendgroup\": \"position\", \"marker\": {\"color\": \"#00cc96\", \"symbol\": \"circle\"}, \"mode\": \"markers\", \"name\": \"position\", \"orientation\": \"v\", \"showlegend\": true, \"type\": \"scatter\", \"x\": [-1.3335260859640752, -0.7746775849205195, 0.5154102870608593, -0.43473681514571205, -0.9266015612499671, 0.08819966342223377, -0.2990473823639423, -0.8454101031561945, 0.14614853199784295, -0.17663385972806936, -0.8787203760547876, 0.17209360705402746, -0.510029467523521, -1.1442109456487228, 0.24156240565478107, -0.44008689416184515, -1.4281149103362492, 0.02065708357445522, -0.5651496149842393, 0.22813124166053644, 1.4756509851864958, -1.640440754246751, -1.2846153258868949, 0.2997726951854865, -0.8236799393233665, -1.138112222728459, -0.0849355219098932, -0.6907968996318934, -1.1313360494951148, -0.07449468468957927, -0.6069561790132256, -1.291526303619318, 0.23489330063459032, -0.6915225854534849, -1.1047181784814186, -0.8325594696098995, -0.7788022511227638, 1.113668459413379, 1.2561473479920344], \"xaxis\": \"x\", \"y\": [-0.6653729251914146, -0.6944708354629882, -1.4300517293097177, -0.8436099675564186, -0.6729404545436715, -1.0828437221921865, -1.3047266348495428, -0.7696481360052295, -1.1431088318026557, -1.3941120292799982, -0.600228964627338, -1.1541797955478217, -0.7781235640434054, -0.23199227473309697, -0.6766541115502999, -0.6060786503074381, -0.1460913062801027, -0.313254791579593, -0.93172269158842, 1.594954482548039, 0.8079932763650283, 0.07556127048273582, -0.23310093120734346, -1.057133899896658, -0.3625462904080962, -0.34041459951909314, -0.9203750803841595, -0.5629991155166517, -0.38729181997211354, -0.9039651892478516, -0.6383660789144249, -0.26856035644237997, -0.9699180009091325, -0.47074259176214606, -0.2516885981748738, 0.5029871057962522, 0.22040236155620138, 1.5337077626513491, 0.8095416064274725], \"yaxis\": \"y\"}, {\"hovertemplate\": \"cluster=stochastic<br>x=%{x}<br>y=%{y}<extra></extra>\", \"legendgroup\": \"stochastic\", \"marker\": {\"color\": \"#ab63fa\", \"symbol\": \"circle\"}, \"mode\": \"markers\", \"name\": \"stochastic\", \"orientation\": \"v\", \"showlegend\": true, \"type\": \"scatter\", \"x\": [-1.6730682134059542, 2.2019574756452953, -0.5829720884384192, -1.7798797825912607, 0.8389975718153457, -0.972091471244141, 2.7919380164167134, -0.39585899540883934, -1.33304433788041, 3.7215373938710057, -1.7927149149846666, 6.073282403723145, 0.8118560738607199, -1.8825202268151204, 3.836030890710856, -1.3174170462092083, 0.18439521207633558, -0.037248257753064645, -1.239254998072565, 2.7539721460166966], \"xaxis\": \"x\", \"y\": [-0.2152414315835871, -0.673708539944587, 0.08207306445145493, 0.027661180829928123, -0.12966718313641723, -0.5442292998486443, -0.6955617397239386, -0.06185017479986451, -0.3848739109944551, -0.8261104986931076, 0.01755591410117366, -1.3140226628514382, -0.4116392035917742, 0.3588920197032522, -0.6947269410223476, 0.5154597962388747, -0.17358891770575272, -0.3032228684639271, -0.10461403324679723, -0.6290386063643402], \"yaxis\": \"y\"}],                        {\"legend\": {\"title\": {\"text\": \"cluster\"}, \"tracegroupgap\": 0}, \"template\": {\"data\": {\"bar\": [{\"error_x\": {\"color\": \"#2a3f5f\"}, \"error_y\": {\"color\": \"#2a3f5f\"}, \"marker\": {\"line\": {\"color\": \"#E5ECF6\", \"width\": 0.5}}, \"type\": \"bar\"}], \"barpolar\": [{\"marker\": {\"line\": {\"color\": \"#E5ECF6\", \"width\": 0.5}}, \"type\": \"barpolar\"}], \"carpet\": [{\"aaxis\": {\"endlinecolor\": \"#2a3f5f\", \"gridcolor\": \"white\", \"linecolor\": \"white\", \"minorgridcolor\": \"white\", \"startlinecolor\": \"#2a3f5f\"}, \"baxis\": {\"endlinecolor\": \"#2a3f5f\", \"gridcolor\": \"white\", \"linecolor\": \"white\", \"minorgridcolor\": \"white\", \"startlinecolor\": \"#2a3f5f\"}, \"type\": \"carpet\"}], \"choropleth\": [{\"colorbar\": {\"outlinewidth\": 0, \"ticks\": \"\"}, \"type\": \"choropleth\"}], \"contour\": [{\"colorbar\": {\"outlinewidth\": 0, \"ticks\": \"\"}, \"colorscale\": [[0.0, \"#0d0887\"], [0.1111111111111111, \"#46039f\"], [0.2222222222222222, \"#7201a8\"], [0.3333333333333333, \"#9c179e\"], [0.4444444444444444, \"#bd3786\"], [0.5555555555555556, \"#d8576b\"], [0.6666666666666666, \"#ed7953\"], [0.7777777777777778, \"#fb9f3a\"], [0.8888888888888888, \"#fdca26\"], [1.0, \"#f0f921\"]], \"type\": \"contour\"}], \"contourcarpet\": [{\"colorbar\": {\"outlinewidth\": 0, \"ticks\": \"\"}, \"type\": \"contourcarpet\"}], \"heatmap\": [{\"colorbar\": {\"outlinewidth\": 0, \"ticks\": \"\"}, \"colorscale\": [[0.0, \"#0d0887\"], [0.1111111111111111, \"#46039f\"], [0.2222222222222222, \"#7201a8\"], [0.3333333333333333, \"#9c179e\"], [0.4444444444444444, \"#bd3786\"], [0.5555555555555556, \"#d8576b\"], [0.6666666666666666, \"#ed7953\"], [0.7777777777777778, \"#fb9f3a\"], [0.8888888888888888, \"#fdca26\"], [1.0, \"#f0f921\"]], \"type\": \"heatmap\"}], \"heatmapgl\": [{\"colorbar\": {\"outlinewidth\": 0, \"ticks\": \"\"}, \"colorscale\": [[0.0, \"#0d0887\"], [0.1111111111111111, \"#46039f\"], [0.2222222222222222, \"#7201a8\"], [0.3333333333333333, \"#9c179e\"], [0.4444444444444444, \"#bd3786\"], [0.5555555555555556, \"#d8576b\"], [0.6666666666666666, \"#ed7953\"], [0.7777777777777778, \"#fb9f3a\"], [0.8888888888888888, \"#fdca26\"], [1.0, \"#f0f921\"]], \"type\": \"heatmapgl\"}], \"histogram\": [{\"marker\": {\"colorbar\": {\"outlinewidth\": 0, \"ticks\": \"\"}}, \"type\": \"histogram\"}], \"histogram2d\": [{\"colorbar\": {\"outlinewidth\": 0, \"ticks\": \"\"}, \"colorscale\": [[0.0, \"#0d0887\"], [0.1111111111111111, \"#46039f\"], [0.2222222222222222, \"#7201a8\"], [0.3333333333333333, \"#9c179e\"], [0.4444444444444444, \"#bd3786\"], [0.5555555555555556, \"#d8576b\"], [0.6666666666666666, \"#ed7953\"], [0.7777777777777778, \"#fb9f3a\"], [0.8888888888888888, \"#fdca26\"], [1.0, \"#f0f921\"]], \"type\": \"histogram2d\"}], \"histogram2dcontour\": [{\"colorbar\": {\"outlinewidth\": 0, \"ticks\": \"\"}, \"colorscale\": [[0.0, \"#0d0887\"], [0.1111111111111111, \"#46039f\"], [0.2222222222222222, \"#7201a8\"], [0.3333333333333333, \"#9c179e\"], [0.4444444444444444, \"#bd3786\"], [0.5555555555555556, \"#d8576b\"], [0.6666666666666666, \"#ed7953\"], [0.7777777777777778, \"#fb9f3a\"], [0.8888888888888888, \"#fdca26\"], [1.0, \"#f0f921\"]], \"type\": \"histogram2dcontour\"}], \"mesh3d\": [{\"colorbar\": {\"outlinewidth\": 0, \"ticks\": \"\"}, \"type\": \"mesh3d\"}], \"parcoords\": [{\"line\": {\"colorbar\": {\"outlinewidth\": 0, \"ticks\": \"\"}}, \"type\": \"parcoords\"}], \"pie\": [{\"automargin\": true, \"type\": \"pie\"}], \"scatter\": [{\"marker\": {\"colorbar\": {\"outlinewidth\": 0, \"ticks\": \"\"}}, \"type\": \"scatter\"}], \"scatter3d\": [{\"line\": {\"colorbar\": {\"outlinewidth\": 0, \"ticks\": \"\"}}, \"marker\": {\"colorbar\": {\"outlinewidth\": 0, \"ticks\": \"\"}}, \"type\": \"scatter3d\"}], \"scattercarpet\": [{\"marker\": {\"colorbar\": {\"outlinewidth\": 0, \"ticks\": \"\"}}, \"type\": \"scattercarpet\"}], \"scattergeo\": [{\"marker\": {\"colorbar\": {\"outlinewidth\": 0, \"ticks\": \"\"}}, \"type\": \"scattergeo\"}], \"scattergl\": [{\"marker\": {\"colorbar\": {\"outlinewidth\": 0, \"ticks\": \"\"}}, \"type\": \"scattergl\"}], \"scattermapbox\": [{\"marker\": {\"colorbar\": {\"outlinewidth\": 0, \"ticks\": \"\"}}, \"type\": \"scattermapbox\"}], \"scatterpolar\": [{\"marker\": {\"colorbar\": {\"outlinewidth\": 0, \"ticks\": \"\"}}, \"type\": \"scatterpolar\"}], \"scatterpolargl\": [{\"marker\": {\"colorbar\": {\"outlinewidth\": 0, \"ticks\": \"\"}}, \"type\": \"scatterpolargl\"}], \"scatterternary\": [{\"marker\": {\"colorbar\": {\"outlinewidth\": 0, \"ticks\": \"\"}}, \"type\": \"scatterternary\"}], \"surface\": [{\"colorbar\": {\"outlinewidth\": 0, \"ticks\": \"\"}, \"colorscale\": [[0.0, \"#0d0887\"], [0.1111111111111111, \"#46039f\"], [0.2222222222222222, \"#7201a8\"], [0.3333333333333333, \"#9c179e\"], [0.4444444444444444, \"#bd3786\"], [0.5555555555555556, \"#d8576b\"], [0.6666666666666666, \"#ed7953\"], [0.7777777777777778, \"#fb9f3a\"], [0.8888888888888888, \"#fdca26\"], [1.0, \"#f0f921\"]], \"type\": \"surface\"}], \"table\": [{\"cells\": {\"fill\": {\"color\": \"#EBF0F8\"}, \"line\": {\"color\": \"white\"}}, \"header\": {\"fill\": {\"color\": \"#C8D4E3\"}, \"line\": {\"color\": \"white\"}}, \"type\": \"table\"}]}, \"layout\": {\"annotationdefaults\": {\"arrowcolor\": \"#2a3f5f\", \"arrowhead\": 0, \"arrowwidth\": 1}, \"coloraxis\": {\"colorbar\": {\"outlinewidth\": 0, \"ticks\": \"\"}}, \"colorscale\": {\"diverging\": [[0, \"#8e0152\"], [0.1, \"#c51b7d\"], [0.2, \"#de77ae\"], [0.3, \"#f1b6da\"], [0.4, \"#fde0ef\"], [0.5, \"#f7f7f7\"], [0.6, \"#e6f5d0\"], [0.7, \"#b8e186\"], [0.8, \"#7fbc41\"], [0.9, \"#4d9221\"], [1, \"#276419\"]], \"sequential\": [[0.0, \"#0d0887\"], [0.1111111111111111, \"#46039f\"], [0.2222222222222222, \"#7201a8\"], [0.3333333333333333, \"#9c179e\"], [0.4444444444444444, \"#bd3786\"], [0.5555555555555556, \"#d8576b\"], [0.6666666666666666, \"#ed7953\"], [0.7777777777777778, \"#fb9f3a\"], [0.8888888888888888, \"#fdca26\"], [1.0, \"#f0f921\"]], \"sequentialminus\": [[0.0, \"#0d0887\"], [0.1111111111111111, \"#46039f\"], [0.2222222222222222, \"#7201a8\"], [0.3333333333333333, \"#9c179e\"], [0.4444444444444444, \"#bd3786\"], [0.5555555555555556, \"#d8576b\"], [0.6666666666666666, \"#ed7953\"], [0.7777777777777778, \"#fb9f3a\"], [0.8888888888888888, \"#fdca26\"], [1.0, \"#f0f921\"]]}, \"colorway\": [\"#636efa\", \"#EF553B\", \"#00cc96\", \"#ab63fa\", \"#FFA15A\", \"#19d3f3\", \"#FF6692\", \"#B6E880\", \"#FF97FF\", \"#FECB52\"], \"font\": {\"color\": \"#2a3f5f\"}, \"geo\": {\"bgcolor\": \"white\", \"lakecolor\": \"white\", \"landcolor\": \"#E5ECF6\", \"showlakes\": true, \"showland\": true, \"subunitcolor\": \"white\"}, \"hoverlabel\": {\"align\": \"left\"}, \"hovermode\": \"closest\", \"mapbox\": {\"style\": \"light\"}, \"paper_bgcolor\": \"white\", \"plot_bgcolor\": \"#E5ECF6\", \"polar\": {\"angularaxis\": {\"gridcolor\": \"white\", \"linecolor\": \"white\", \"ticks\": \"\"}, \"bgcolor\": \"#E5ECF6\", \"radialaxis\": {\"gridcolor\": \"white\", \"linecolor\": \"white\", \"ticks\": \"\"}}, \"scene\": {\"xaxis\": {\"backgroundcolor\": \"#E5ECF6\", \"gridcolor\": \"white\", \"gridwidth\": 2, \"linecolor\": \"white\", \"showbackground\": true, \"ticks\": \"\", \"zerolinecolor\": \"white\"}, \"yaxis\": {\"backgroundcolor\": \"#E5ECF6\", \"gridcolor\": \"white\", \"gridwidth\": 2, \"linecolor\": \"white\", \"showbackground\": true, \"ticks\": \"\", \"zerolinecolor\": \"white\"}, \"zaxis\": {\"backgroundcolor\": \"#E5ECF6\", \"gridcolor\": \"white\", \"gridwidth\": 2, \"linecolor\": \"white\", \"showbackground\": true, \"ticks\": \"\", \"zerolinecolor\": \"white\"}}, \"shapedefaults\": {\"line\": {\"color\": \"#2a3f5f\"}}, \"ternary\": {\"aaxis\": {\"gridcolor\": \"white\", \"linecolor\": \"white\", \"ticks\": \"\"}, \"baxis\": {\"gridcolor\": \"white\", \"linecolor\": \"white\", \"ticks\": \"\"}, \"bgcolor\": \"#E5ECF6\", \"caxis\": {\"gridcolor\": \"white\", \"linecolor\": \"white\", \"ticks\": \"\"}}, \"title\": {\"x\": 0.05}, \"xaxis\": {\"automargin\": true, \"gridcolor\": \"white\", \"linecolor\": \"white\", \"ticks\": \"\", \"title\": {\"standoff\": 15}, \"zerolinecolor\": \"white\", \"zerolinewidth\": 2}, \"yaxis\": {\"automargin\": true, \"gridcolor\": \"white\", \"linecolor\": \"white\", \"ticks\": \"\", \"title\": {\"standoff\": 15}, \"zerolinecolor\": \"white\", \"zerolinewidth\": 2}}}, \"title\": {\"text\": \"data variables projection on two first pca comps\"}, \"xaxis\": {\"anchor\": \"y\", \"domain\": [0.0, 1.0], \"title\": {\"text\": \"x\"}}, \"yaxis\": {\"anchor\": \"x\", \"domain\": [0.0, 1.0], \"title\": {\"text\": \"y\"}}},                        {\"responsive\": true}                    ).then(function(){\n",
              "                            \n",
              "var gd = document.getElementById('d6abb30c-a02d-43b8-b878-38929d7d7830');\n",
              "var x = new MutationObserver(function (mutations, observer) {{\n",
              "        var display = window.getComputedStyle(gd).display;\n",
              "        if (!display || display === 'none') {{\n",
              "            console.log([gd, 'removed!']);\n",
              "            Plotly.purge(gd);\n",
              "            observer.disconnect();\n",
              "        }}\n",
              "}});\n",
              "\n",
              "// Listen for the removal of the full notebook cells\n",
              "var notebookContainer = gd.closest('#notebook-container');\n",
              "if (notebookContainer) {{\n",
              "    x.observe(notebookContainer, {childList: true});\n",
              "}}\n",
              "\n",
              "// Listen for the clearing of the current output cell\n",
              "var outputEl = gd.closest('.output');\n",
              "if (outputEl) {{\n",
              "    x.observe(outputEl, {childList: true});\n",
              "}}\n",
              "\n",
              "                        })                };                });            </script>        </div>"
            ]
          },
          "metadata": {
            "tags": []
          }
        }
      ]
    },
    {
      "cell_type": "code",
      "metadata": {
        "id": "ZNvQLSqD4-IG",
        "outputId": "5a3c1276-e1c0-418e-9c6a-eefbde889f51"
      },
      "source": [
        "from sklearn.cluster import KMeans\n",
        "import numpy as np\n",
        "X_ = new_data[['x','y']].values\n",
        "kmeans = KMeans(n_clusters=4, random_state=0).fit(X_)\n",
        "\n",
        "\n",
        "k_clust = kmeans.predict(X_)\n",
        "new_da = {'x':new_data['x'].values,'y':new_data['y'].values,'cluster':k_clust}\n",
        "import plotly.graph_objects as go\n",
        "\n",
        "fig = go.Figure(data=go.Scatter(\n",
        "    x=new_da['x'],\n",
        "    y=new_da['y'],\n",
        "    mode='markers',\n",
        "    marker=dict(\n",
        "                color=new_da['cluster'])\n",
        "))\n",
        "\n",
        "fig.show()"
      ],
      "execution_count": null,
      "outputs": [
        {
          "output_type": "display_data",
          "data": {
            "application/vnd.plotly.v1+json": {
              "config": {
                "plotlyServerURL": "https://plot.ly"
              },
              "data": [
                {
                  "marker": {
                    "color": [
                      3,
                      3,
                      3,
                      2,
                      2,
                      2,
                      3,
                      3,
                      3,
                      3,
                      3,
                      3,
                      1,
                      1,
                      2,
                      2,
                      2,
                      2,
                      2,
                      2,
                      2,
                      2,
                      1,
                      2,
                      0,
                      0,
                      0,
                      2,
                      0,
                      0,
                      0,
                      0,
                      0,
                      0,
                      0,
                      0,
                      0,
                      0,
                      0,
                      2,
                      0,
                      0,
                      2,
                      0,
                      0,
                      2,
                      0,
                      2,
                      0,
                      2,
                      0,
                      3,
                      0,
                      2,
                      3,
                      2,
                      0,
                      3,
                      3,
                      3,
                      3,
                      3,
                      3,
                      2,
                      1,
                      2,
                      2,
                      3,
                      2,
                      1,
                      0,
                      2,
                      1,
                      1,
                      3,
                      3,
                      2,
                      2,
                      2,
                      3,
                      3,
                      3,
                      3,
                      3,
                      3,
                      1,
                      1,
                      2,
                      2,
                      2,
                      2,
                      2,
                      2,
                      2,
                      2,
                      1,
                      2,
                      2,
                      0,
                      2,
                      2,
                      2,
                      2,
                      2,
                      0,
                      0,
                      2,
                      0,
                      0,
                      2,
                      0,
                      0,
                      2,
                      2,
                      2,
                      2,
                      0,
                      0,
                      2,
                      2,
                      2,
                      2,
                      2,
                      2,
                      3,
                      0,
                      2,
                      3,
                      2,
                      2,
                      3,
                      3,
                      3,
                      3,
                      3,
                      3,
                      2,
                      1,
                      0,
                      2,
                      1,
                      2,
                      0,
                      0,
                      2,
                      1
                    ]
                  },
                  "mode": "markers",
                  "type": "scatter",
                  "x": [
                    2.335020997663823,
                    1.1234749891846623,
                    -0.025318174668818,
                    -0.6362439306594679,
                    -1.8015129091486477,
                    -1.2309190905985368,
                    1.5587430135277311,
                    0.1777722931769006,
                    0.02989046381260909,
                    0.48004618599922527,
                    0.7811505292318587,
                    1.1134780411235325,
                    3.507747180969369,
                    3.151501196919815,
                    -1.8172654902611725,
                    -1.2557189417162478,
                    -1.668090470751242,
                    -1.042329114171803,
                    -1.7826510872483117,
                    -0.8839651142810547,
                    -0.8703596513753884,
                    -0.6978123741943224,
                    3.980919484261214,
                    -1.3335260859640752,
                    -0.7746775849205195,
                    0.5154102870608593,
                    -0.43473681514571205,
                    -1.1442109456487228,
                    0.24156240565478002,
                    -0.4400868941618449,
                    -0.9266015612499671,
                    0.08819966342223377,
                    -0.2990473823639423,
                    -0.8454101031561945,
                    0.14614853199784295,
                    -0.17663385972806936,
                    -0.8787203760547876,
                    0.17209360705402746,
                    -0.510029467523521,
                    -1.1442109456487228,
                    0.24156240565478107,
                    -0.44008689416184515,
                    -1.4281149103362492,
                    0.02065708357445522,
                    -0.17663385973423268,
                    -1.3037525782738193,
                    0.47257791385237036,
                    -1.2731348103567615,
                    0.3656197199048797,
                    -1.307532359352439,
                    0.5441392019735897,
                    1.0621853946894018,
                    -0.5651496149842393,
                    -1.3529333805663828,
                    0.22813124166053644,
                    -1.1052707362053034,
                    0.30540132505365686,
                    1.2779391070105333,
                    1.4087226847600829,
                    1.0640570996800394,
                    1.4756509851864958,
                    1.6565773626748568,
                    1.7453264500121548,
                    -1.6730682134059542,
                    2.2019574756452953,
                    -0.5829720884384192,
                    -1.7798797825912607,
                    0.8389975718153457,
                    -0.972091471244141,
                    2.7919380164167134,
                    -0.39585899540883934,
                    -1.33304433788041,
                    3.7215373938710057,
                    2.827297292438979,
                    2.117841577353018,
                    0.4081988696361912,
                    -0.6970678294212753,
                    -1.7674274601148503,
                    -1.4177859045409285,
                    1.6458936502124752,
                    1.1323346929024602,
                    0.3887983515902774,
                    0.9813620950172766,
                    1.555035138899118,
                    1.188820377842713,
                    4.778352594879084,
                    3.5453415160295014,
                    -1.7868418424326638,
                    -1.4891566513429189,
                    -1.7885679419496532,
                    -1.3158734163168424,
                    -1.8756510640148345,
                    -1.6087307375756421,
                    -0.7677939517295032,
                    -1.0582596227471905,
                    3.1281706069684323,
                    -1.640440754246751,
                    -1.2846153258868949,
                    0.2997726951854865,
                    -0.8236799393233665,
                    -1.1047181784814186,
                    -0.8325594696098992,
                    -0.778802251122764,
                    -1.138112222728459,
                    -0.0849355219098932,
                    -0.6907968996318934,
                    -1.1313360494951148,
                    -0.07449468468957927,
                    -0.6069561790132256,
                    -1.291526303619318,
                    0.23489330063459032,
                    -0.6915225854534849,
                    -1.1047181784814186,
                    -0.8325594696098995,
                    -0.7788022511227638,
                    -1.4896434545277275,
                    -0.6020498426380096,
                    -0.6069561790107154,
                    -1.229254310802281,
                    -0.8821963980333788,
                    -1.2431700970095734,
                    -0.9691038797462733,
                    -1.2258248801073177,
                    -0.8043742036199552,
                    0.8390214577868012,
                    -0.5018929867644326,
                    -1.5913079364893687,
                    1.113668459413379,
                    -1.2777972803239284,
                    -0.8037360491779134,
                    2.1298194006456286,
                    0.9190037466453129,
                    0.8698455233431392,
                    1.2561473479920344,
                    1.4352996750899873,
                    0.9892056308890366,
                    -1.7927149149846666,
                    6.073282403723145,
                    0.8118560738607199,
                    -1.8825202268151204,
                    3.836030890710856,
                    -1.3174170462092083,
                    0.18439521207633558,
                    -0.037248257753064645,
                    -1.239254998072565,
                    2.7539721460166966
                  ],
                  "y": [
                    1.0374080003570538,
                    0.8792687721036887,
                    0.9374345819649968,
                    0.7451839568792276,
                    0.07603517988981566,
                    -0.3818490628029831,
                    0.968743009792498,
                    0.7937110560020849,
                    0.7389886447298449,
                    0.7949532430637747,
                    0.9439981661252901,
                    0.8532495364626289,
                    -0.7180388104430333,
                    -0.5843273294022397,
                    0.10569810051482079,
                    -0.4274781943070093,
                    0.2173522209395939,
                    -0.06521085196250653,
                    0.34956012619226245,
                    0.14631819033107807,
                    1.0286389051137192,
                    1.0529034727316267,
                    -0.030123851166618955,
                    -0.6653729251914146,
                    -0.6944708354629882,
                    -1.4300517293097177,
                    -0.8436099675564186,
                    -0.23199227473309691,
                    -0.6766541115502992,
                    -0.6060786503074381,
                    -0.6729404545436715,
                    -1.0828437221921865,
                    -1.3047266348495428,
                    -0.7696481360052295,
                    -1.1431088318026557,
                    -1.3941120292799982,
                    -0.600228964627338,
                    -1.1541797955478217,
                    -0.7781235640434054,
                    -0.23199227473309697,
                    -0.6766541115502999,
                    -0.6060786503074381,
                    -0.1460913062801027,
                    -0.313254791579593,
                    -1.3941120292797025,
                    -0.08401019331137384,
                    -0.6849785361003224,
                    -0.11728995781584431,
                    -0.6448672849535083,
                    -0.061005185082140846,
                    -0.696665644972878,
                    0.8050030085184599,
                    -0.93172269158842,
                    -0.5047066541944822,
                    1.594954482548039,
                    -0.3605046097564933,
                    -0.8770417518359997,
                    1.0700223378285516,
                    0.885330613658612,
                    0.9867060212629067,
                    0.8079932763650283,
                    0.8556193380705776,
                    1.0232448039321123,
                    -0.2152414315835871,
                    -0.673708539944587,
                    0.08207306445145493,
                    0.027661180829928123,
                    -0.12966718313641723,
                    -0.5442292998486443,
                    -0.6955617397239386,
                    -0.06185017479986451,
                    -0.3848739109944551,
                    -0.8261104986931076,
                    0.8449839809550284,
                    0.7408666322852554,
                    0.8093566043761296,
                    0.9744789630228632,
                    -0.06306507528691174,
                    0.08654668605934031,
                    0.45150856528971234,
                    0.851997744894349,
                    0.7732395735658504,
                    0.6856414462213195,
                    0.7270310814847922,
                    0.7461492774981755,
                    -0.7968666924827043,
                    -0.695657312284772,
                    0.15284707005961584,
                    0.033676792804775535,
                    0.3198971345153884,
                    0.33613891588219086,
                    0.48042979335271074,
                    0.9092697964640688,
                    0.843129351500528,
                    1.0130111231492587,
                    -0.6315782166424903,
                    0.07556127048273582,
                    -0.23310093120734346,
                    -1.057133899896658,
                    -0.3625462904080962,
                    -0.25168859817487366,
                    0.502987105796252,
                    0.22040236155620133,
                    -0.34041459951909314,
                    -0.9203750803841595,
                    -0.5629991155166517,
                    -0.38729181997211354,
                    -0.9039651892478516,
                    -0.6383660789144249,
                    -0.26856035644237997,
                    -0.9699180009091325,
                    -0.47074259176214606,
                    -0.2516885981748738,
                    0.5029871057962522,
                    0.22040236155620138,
                    0.09449035135224715,
                    -0.2861636961005306,
                    -0.6383660789212338,
                    -0.18108686396893758,
                    0.5290586004590768,
                    -0.11117304324074571,
                    0.5851085916142693,
                    -0.19089378117782035,
                    0.49553074557209537,
                    0.6280807718391146,
                    -0.5684560600921227,
                    0.1691020097040778,
                    1.5337077626513491,
                    -0.14311226977161545,
                    0.4217089244279167,
                    0.7774727368613263,
                    0.9441492408213924,
                    0.940767369298619,
                    0.8095416064274725,
                    0.7843857713612434,
                    0.9578464112377769,
                    0.01755591410117366,
                    -1.3140226628514382,
                    -0.4116392035917742,
                    0.3588920197032522,
                    -0.6947269410223476,
                    0.5154597962388747,
                    -0.17358891770575272,
                    -0.3032228684639271,
                    -0.10461403324679723,
                    -0.6290386063643402
                  ]
                }
              ],
              "layout": {
                "template": {
                  "data": {
                    "bar": [
                      {
                        "error_x": {
                          "color": "#2a3f5f"
                        },
                        "error_y": {
                          "color": "#2a3f5f"
                        },
                        "marker": {
                          "line": {
                            "color": "#E5ECF6",
                            "width": 0.5
                          }
                        },
                        "type": "bar"
                      }
                    ],
                    "barpolar": [
                      {
                        "marker": {
                          "line": {
                            "color": "#E5ECF6",
                            "width": 0.5
                          }
                        },
                        "type": "barpolar"
                      }
                    ],
                    "carpet": [
                      {
                        "aaxis": {
                          "endlinecolor": "#2a3f5f",
                          "gridcolor": "white",
                          "linecolor": "white",
                          "minorgridcolor": "white",
                          "startlinecolor": "#2a3f5f"
                        },
                        "baxis": {
                          "endlinecolor": "#2a3f5f",
                          "gridcolor": "white",
                          "linecolor": "white",
                          "minorgridcolor": "white",
                          "startlinecolor": "#2a3f5f"
                        },
                        "type": "carpet"
                      }
                    ],
                    "choropleth": [
                      {
                        "colorbar": {
                          "outlinewidth": 0,
                          "ticks": ""
                        },
                        "type": "choropleth"
                      }
                    ],
                    "contour": [
                      {
                        "colorbar": {
                          "outlinewidth": 0,
                          "ticks": ""
                        },
                        "colorscale": [
                          [
                            0,
                            "#0d0887"
                          ],
                          [
                            0.1111111111111111,
                            "#46039f"
                          ],
                          [
                            0.2222222222222222,
                            "#7201a8"
                          ],
                          [
                            0.3333333333333333,
                            "#9c179e"
                          ],
                          [
                            0.4444444444444444,
                            "#bd3786"
                          ],
                          [
                            0.5555555555555556,
                            "#d8576b"
                          ],
                          [
                            0.6666666666666666,
                            "#ed7953"
                          ],
                          [
                            0.7777777777777778,
                            "#fb9f3a"
                          ],
                          [
                            0.8888888888888888,
                            "#fdca26"
                          ],
                          [
                            1,
                            "#f0f921"
                          ]
                        ],
                        "type": "contour"
                      }
                    ],
                    "contourcarpet": [
                      {
                        "colorbar": {
                          "outlinewidth": 0,
                          "ticks": ""
                        },
                        "type": "contourcarpet"
                      }
                    ],
                    "heatmap": [
                      {
                        "colorbar": {
                          "outlinewidth": 0,
                          "ticks": ""
                        },
                        "colorscale": [
                          [
                            0,
                            "#0d0887"
                          ],
                          [
                            0.1111111111111111,
                            "#46039f"
                          ],
                          [
                            0.2222222222222222,
                            "#7201a8"
                          ],
                          [
                            0.3333333333333333,
                            "#9c179e"
                          ],
                          [
                            0.4444444444444444,
                            "#bd3786"
                          ],
                          [
                            0.5555555555555556,
                            "#d8576b"
                          ],
                          [
                            0.6666666666666666,
                            "#ed7953"
                          ],
                          [
                            0.7777777777777778,
                            "#fb9f3a"
                          ],
                          [
                            0.8888888888888888,
                            "#fdca26"
                          ],
                          [
                            1,
                            "#f0f921"
                          ]
                        ],
                        "type": "heatmap"
                      }
                    ],
                    "heatmapgl": [
                      {
                        "colorbar": {
                          "outlinewidth": 0,
                          "ticks": ""
                        },
                        "colorscale": [
                          [
                            0,
                            "#0d0887"
                          ],
                          [
                            0.1111111111111111,
                            "#46039f"
                          ],
                          [
                            0.2222222222222222,
                            "#7201a8"
                          ],
                          [
                            0.3333333333333333,
                            "#9c179e"
                          ],
                          [
                            0.4444444444444444,
                            "#bd3786"
                          ],
                          [
                            0.5555555555555556,
                            "#d8576b"
                          ],
                          [
                            0.6666666666666666,
                            "#ed7953"
                          ],
                          [
                            0.7777777777777778,
                            "#fb9f3a"
                          ],
                          [
                            0.8888888888888888,
                            "#fdca26"
                          ],
                          [
                            1,
                            "#f0f921"
                          ]
                        ],
                        "type": "heatmapgl"
                      }
                    ],
                    "histogram": [
                      {
                        "marker": {
                          "colorbar": {
                            "outlinewidth": 0,
                            "ticks": ""
                          }
                        },
                        "type": "histogram"
                      }
                    ],
                    "histogram2d": [
                      {
                        "colorbar": {
                          "outlinewidth": 0,
                          "ticks": ""
                        },
                        "colorscale": [
                          [
                            0,
                            "#0d0887"
                          ],
                          [
                            0.1111111111111111,
                            "#46039f"
                          ],
                          [
                            0.2222222222222222,
                            "#7201a8"
                          ],
                          [
                            0.3333333333333333,
                            "#9c179e"
                          ],
                          [
                            0.4444444444444444,
                            "#bd3786"
                          ],
                          [
                            0.5555555555555556,
                            "#d8576b"
                          ],
                          [
                            0.6666666666666666,
                            "#ed7953"
                          ],
                          [
                            0.7777777777777778,
                            "#fb9f3a"
                          ],
                          [
                            0.8888888888888888,
                            "#fdca26"
                          ],
                          [
                            1,
                            "#f0f921"
                          ]
                        ],
                        "type": "histogram2d"
                      }
                    ],
                    "histogram2dcontour": [
                      {
                        "colorbar": {
                          "outlinewidth": 0,
                          "ticks": ""
                        },
                        "colorscale": [
                          [
                            0,
                            "#0d0887"
                          ],
                          [
                            0.1111111111111111,
                            "#46039f"
                          ],
                          [
                            0.2222222222222222,
                            "#7201a8"
                          ],
                          [
                            0.3333333333333333,
                            "#9c179e"
                          ],
                          [
                            0.4444444444444444,
                            "#bd3786"
                          ],
                          [
                            0.5555555555555556,
                            "#d8576b"
                          ],
                          [
                            0.6666666666666666,
                            "#ed7953"
                          ],
                          [
                            0.7777777777777778,
                            "#fb9f3a"
                          ],
                          [
                            0.8888888888888888,
                            "#fdca26"
                          ],
                          [
                            1,
                            "#f0f921"
                          ]
                        ],
                        "type": "histogram2dcontour"
                      }
                    ],
                    "mesh3d": [
                      {
                        "colorbar": {
                          "outlinewidth": 0,
                          "ticks": ""
                        },
                        "type": "mesh3d"
                      }
                    ],
                    "parcoords": [
                      {
                        "line": {
                          "colorbar": {
                            "outlinewidth": 0,
                            "ticks": ""
                          }
                        },
                        "type": "parcoords"
                      }
                    ],
                    "pie": [
                      {
                        "automargin": true,
                        "type": "pie"
                      }
                    ],
                    "scatter": [
                      {
                        "marker": {
                          "colorbar": {
                            "outlinewidth": 0,
                            "ticks": ""
                          }
                        },
                        "type": "scatter"
                      }
                    ],
                    "scatter3d": [
                      {
                        "line": {
                          "colorbar": {
                            "outlinewidth": 0,
                            "ticks": ""
                          }
                        },
                        "marker": {
                          "colorbar": {
                            "outlinewidth": 0,
                            "ticks": ""
                          }
                        },
                        "type": "scatter3d"
                      }
                    ],
                    "scattercarpet": [
                      {
                        "marker": {
                          "colorbar": {
                            "outlinewidth": 0,
                            "ticks": ""
                          }
                        },
                        "type": "scattercarpet"
                      }
                    ],
                    "scattergeo": [
                      {
                        "marker": {
                          "colorbar": {
                            "outlinewidth": 0,
                            "ticks": ""
                          }
                        },
                        "type": "scattergeo"
                      }
                    ],
                    "scattergl": [
                      {
                        "marker": {
                          "colorbar": {
                            "outlinewidth": 0,
                            "ticks": ""
                          }
                        },
                        "type": "scattergl"
                      }
                    ],
                    "scattermapbox": [
                      {
                        "marker": {
                          "colorbar": {
                            "outlinewidth": 0,
                            "ticks": ""
                          }
                        },
                        "type": "scattermapbox"
                      }
                    ],
                    "scatterpolar": [
                      {
                        "marker": {
                          "colorbar": {
                            "outlinewidth": 0,
                            "ticks": ""
                          }
                        },
                        "type": "scatterpolar"
                      }
                    ],
                    "scatterpolargl": [
                      {
                        "marker": {
                          "colorbar": {
                            "outlinewidth": 0,
                            "ticks": ""
                          }
                        },
                        "type": "scatterpolargl"
                      }
                    ],
                    "scatterternary": [
                      {
                        "marker": {
                          "colorbar": {
                            "outlinewidth": 0,
                            "ticks": ""
                          }
                        },
                        "type": "scatterternary"
                      }
                    ],
                    "surface": [
                      {
                        "colorbar": {
                          "outlinewidth": 0,
                          "ticks": ""
                        },
                        "colorscale": [
                          [
                            0,
                            "#0d0887"
                          ],
                          [
                            0.1111111111111111,
                            "#46039f"
                          ],
                          [
                            0.2222222222222222,
                            "#7201a8"
                          ],
                          [
                            0.3333333333333333,
                            "#9c179e"
                          ],
                          [
                            0.4444444444444444,
                            "#bd3786"
                          ],
                          [
                            0.5555555555555556,
                            "#d8576b"
                          ],
                          [
                            0.6666666666666666,
                            "#ed7953"
                          ],
                          [
                            0.7777777777777778,
                            "#fb9f3a"
                          ],
                          [
                            0.8888888888888888,
                            "#fdca26"
                          ],
                          [
                            1,
                            "#f0f921"
                          ]
                        ],
                        "type": "surface"
                      }
                    ],
                    "table": [
                      {
                        "cells": {
                          "fill": {
                            "color": "#EBF0F8"
                          },
                          "line": {
                            "color": "white"
                          }
                        },
                        "header": {
                          "fill": {
                            "color": "#C8D4E3"
                          },
                          "line": {
                            "color": "white"
                          }
                        },
                        "type": "table"
                      }
                    ]
                  },
                  "layout": {
                    "annotationdefaults": {
                      "arrowcolor": "#2a3f5f",
                      "arrowhead": 0,
                      "arrowwidth": 1
                    },
                    "coloraxis": {
                      "colorbar": {
                        "outlinewidth": 0,
                        "ticks": ""
                      }
                    },
                    "colorscale": {
                      "diverging": [
                        [
                          0,
                          "#8e0152"
                        ],
                        [
                          0.1,
                          "#c51b7d"
                        ],
                        [
                          0.2,
                          "#de77ae"
                        ],
                        [
                          0.3,
                          "#f1b6da"
                        ],
                        [
                          0.4,
                          "#fde0ef"
                        ],
                        [
                          0.5,
                          "#f7f7f7"
                        ],
                        [
                          0.6,
                          "#e6f5d0"
                        ],
                        [
                          0.7,
                          "#b8e186"
                        ],
                        [
                          0.8,
                          "#7fbc41"
                        ],
                        [
                          0.9,
                          "#4d9221"
                        ],
                        [
                          1,
                          "#276419"
                        ]
                      ],
                      "sequential": [
                        [
                          0,
                          "#0d0887"
                        ],
                        [
                          0.1111111111111111,
                          "#46039f"
                        ],
                        [
                          0.2222222222222222,
                          "#7201a8"
                        ],
                        [
                          0.3333333333333333,
                          "#9c179e"
                        ],
                        [
                          0.4444444444444444,
                          "#bd3786"
                        ],
                        [
                          0.5555555555555556,
                          "#d8576b"
                        ],
                        [
                          0.6666666666666666,
                          "#ed7953"
                        ],
                        [
                          0.7777777777777778,
                          "#fb9f3a"
                        ],
                        [
                          0.8888888888888888,
                          "#fdca26"
                        ],
                        [
                          1,
                          "#f0f921"
                        ]
                      ],
                      "sequentialminus": [
                        [
                          0,
                          "#0d0887"
                        ],
                        [
                          0.1111111111111111,
                          "#46039f"
                        ],
                        [
                          0.2222222222222222,
                          "#7201a8"
                        ],
                        [
                          0.3333333333333333,
                          "#9c179e"
                        ],
                        [
                          0.4444444444444444,
                          "#bd3786"
                        ],
                        [
                          0.5555555555555556,
                          "#d8576b"
                        ],
                        [
                          0.6666666666666666,
                          "#ed7953"
                        ],
                        [
                          0.7777777777777778,
                          "#fb9f3a"
                        ],
                        [
                          0.8888888888888888,
                          "#fdca26"
                        ],
                        [
                          1,
                          "#f0f921"
                        ]
                      ]
                    },
                    "colorway": [
                      "#636efa",
                      "#EF553B",
                      "#00cc96",
                      "#ab63fa",
                      "#FFA15A",
                      "#19d3f3",
                      "#FF6692",
                      "#B6E880",
                      "#FF97FF",
                      "#FECB52"
                    ],
                    "font": {
                      "color": "#2a3f5f"
                    },
                    "geo": {
                      "bgcolor": "white",
                      "lakecolor": "white",
                      "landcolor": "#E5ECF6",
                      "showlakes": true,
                      "showland": true,
                      "subunitcolor": "white"
                    },
                    "hoverlabel": {
                      "align": "left"
                    },
                    "hovermode": "closest",
                    "mapbox": {
                      "style": "light"
                    },
                    "paper_bgcolor": "white",
                    "plot_bgcolor": "#E5ECF6",
                    "polar": {
                      "angularaxis": {
                        "gridcolor": "white",
                        "linecolor": "white",
                        "ticks": ""
                      },
                      "bgcolor": "#E5ECF6",
                      "radialaxis": {
                        "gridcolor": "white",
                        "linecolor": "white",
                        "ticks": ""
                      }
                    },
                    "scene": {
                      "xaxis": {
                        "backgroundcolor": "#E5ECF6",
                        "gridcolor": "white",
                        "gridwidth": 2,
                        "linecolor": "white",
                        "showbackground": true,
                        "ticks": "",
                        "zerolinecolor": "white"
                      },
                      "yaxis": {
                        "backgroundcolor": "#E5ECF6",
                        "gridcolor": "white",
                        "gridwidth": 2,
                        "linecolor": "white",
                        "showbackground": true,
                        "ticks": "",
                        "zerolinecolor": "white"
                      },
                      "zaxis": {
                        "backgroundcolor": "#E5ECF6",
                        "gridcolor": "white",
                        "gridwidth": 2,
                        "linecolor": "white",
                        "showbackground": true,
                        "ticks": "",
                        "zerolinecolor": "white"
                      }
                    },
                    "shapedefaults": {
                      "line": {
                        "color": "#2a3f5f"
                      }
                    },
                    "ternary": {
                      "aaxis": {
                        "gridcolor": "white",
                        "linecolor": "white",
                        "ticks": ""
                      },
                      "baxis": {
                        "gridcolor": "white",
                        "linecolor": "white",
                        "ticks": ""
                      },
                      "bgcolor": "#E5ECF6",
                      "caxis": {
                        "gridcolor": "white",
                        "linecolor": "white",
                        "ticks": ""
                      }
                    },
                    "title": {
                      "x": 0.05
                    },
                    "xaxis": {
                      "automargin": true,
                      "gridcolor": "white",
                      "linecolor": "white",
                      "ticks": "",
                      "title": {
                        "standoff": 15
                      },
                      "zerolinecolor": "white",
                      "zerolinewidth": 2
                    },
                    "yaxis": {
                      "automargin": true,
                      "gridcolor": "white",
                      "linecolor": "white",
                      "ticks": "",
                      "title": {
                        "standoff": 15
                      },
                      "zerolinecolor": "white",
                      "zerolinewidth": 2
                    }
                  }
                }
              }
            },
            "text/html": [
              "<div>                            <div id=\"773987be-af88-4bdb-9173-55dc79eeefaf\" class=\"plotly-graph-div\" style=\"height:525px; width:100%;\"></div>            <script type=\"text/javascript\">                require([\"plotly\"], function(Plotly) {                    window.PLOTLYENV=window.PLOTLYENV || {};                                    if (document.getElementById(\"773987be-af88-4bdb-9173-55dc79eeefaf\")) {                    Plotly.newPlot(                        \"773987be-af88-4bdb-9173-55dc79eeefaf\",                        [{\"marker\": {\"color\": [3, 3, 3, 2, 2, 2, 3, 3, 3, 3, 3, 3, 1, 1, 2, 2, 2, 2, 2, 2, 2, 2, 1, 2, 0, 0, 0, 2, 0, 0, 0, 0, 0, 0, 0, 0, 0, 0, 0, 2, 0, 0, 2, 0, 0, 2, 0, 2, 0, 2, 0, 3, 0, 2, 3, 2, 0, 3, 3, 3, 3, 3, 3, 2, 1, 2, 2, 3, 2, 1, 0, 2, 1, 1, 3, 3, 2, 2, 2, 3, 3, 3, 3, 3, 3, 1, 1, 2, 2, 2, 2, 2, 2, 2, 2, 1, 2, 2, 0, 2, 2, 2, 2, 2, 0, 0, 2, 0, 0, 2, 0, 0, 2, 2, 2, 2, 0, 0, 2, 2, 2, 2, 2, 2, 3, 0, 2, 3, 2, 2, 3, 3, 3, 3, 3, 3, 2, 1, 0, 2, 1, 2, 0, 0, 2, 1]}, \"mode\": \"markers\", \"type\": \"scatter\", \"x\": [2.335020997663823, 1.1234749891846623, -0.025318174668818, -0.6362439306594679, -1.8015129091486477, -1.2309190905985368, 1.5587430135277311, 0.1777722931769006, 0.02989046381260909, 0.48004618599922527, 0.7811505292318587, 1.1134780411235325, 3.507747180969369, 3.151501196919815, -1.8172654902611725, -1.2557189417162478, -1.668090470751242, -1.042329114171803, -1.7826510872483117, -0.8839651142810547, -0.8703596513753884, -0.6978123741943224, 3.980919484261214, -1.3335260859640752, -0.7746775849205195, 0.5154102870608593, -0.43473681514571205, -1.1442109456487228, 0.24156240565478002, -0.4400868941618449, -0.9266015612499671, 0.08819966342223377, -0.2990473823639423, -0.8454101031561945, 0.14614853199784295, -0.17663385972806936, -0.8787203760547876, 0.17209360705402746, -0.510029467523521, -1.1442109456487228, 0.24156240565478107, -0.44008689416184515, -1.4281149103362492, 0.02065708357445522, -0.17663385973423268, -1.3037525782738193, 0.47257791385237036, -1.2731348103567615, 0.3656197199048797, -1.307532359352439, 0.5441392019735897, 1.0621853946894018, -0.5651496149842393, -1.3529333805663828, 0.22813124166053644, -1.1052707362053034, 0.30540132505365686, 1.2779391070105333, 1.4087226847600829, 1.0640570996800394, 1.4756509851864958, 1.6565773626748568, 1.7453264500121548, -1.6730682134059542, 2.2019574756452953, -0.5829720884384192, -1.7798797825912607, 0.8389975718153457, -0.972091471244141, 2.7919380164167134, -0.39585899540883934, -1.33304433788041, 3.7215373938710057, 2.827297292438979, 2.117841577353018, 0.4081988696361912, -0.6970678294212753, -1.7674274601148503, -1.4177859045409285, 1.6458936502124752, 1.1323346929024602, 0.3887983515902774, 0.9813620950172766, 1.555035138899118, 1.188820377842713, 4.778352594879084, 3.5453415160295014, -1.7868418424326638, -1.4891566513429189, -1.7885679419496532, -1.3158734163168424, -1.8756510640148345, -1.6087307375756421, -0.7677939517295032, -1.0582596227471905, 3.1281706069684323, -1.640440754246751, -1.2846153258868949, 0.2997726951854865, -0.8236799393233665, -1.1047181784814186, -0.8325594696098992, -0.778802251122764, -1.138112222728459, -0.0849355219098932, -0.6907968996318934, -1.1313360494951148, -0.07449468468957927, -0.6069561790132256, -1.291526303619318, 0.23489330063459032, -0.6915225854534849, -1.1047181784814186, -0.8325594696098995, -0.7788022511227638, -1.4896434545277275, -0.6020498426380096, -0.6069561790107154, -1.229254310802281, -0.8821963980333788, -1.2431700970095734, -0.9691038797462733, -1.2258248801073177, -0.8043742036199552, 0.8390214577868012, -0.5018929867644326, -1.5913079364893687, 1.113668459413379, -1.2777972803239284, -0.8037360491779134, 2.1298194006456286, 0.9190037466453129, 0.8698455233431392, 1.2561473479920344, 1.4352996750899873, 0.9892056308890366, -1.7927149149846666, 6.073282403723145, 0.8118560738607199, -1.8825202268151204, 3.836030890710856, -1.3174170462092083, 0.18439521207633558, -0.037248257753064645, -1.239254998072565, 2.7539721460166966], \"y\": [1.0374080003570538, 0.8792687721036887, 0.9374345819649968, 0.7451839568792276, 0.07603517988981566, -0.3818490628029831, 0.968743009792498, 0.7937110560020849, 0.7389886447298449, 0.7949532430637747, 0.9439981661252901, 0.8532495364626289, -0.7180388104430333, -0.5843273294022397, 0.10569810051482079, -0.4274781943070093, 0.2173522209395939, -0.06521085196250653, 0.34956012619226245, 0.14631819033107807, 1.0286389051137192, 1.0529034727316267, -0.030123851166618955, -0.6653729251914146, -0.6944708354629882, -1.4300517293097177, -0.8436099675564186, -0.23199227473309691, -0.6766541115502992, -0.6060786503074381, -0.6729404545436715, -1.0828437221921865, -1.3047266348495428, -0.7696481360052295, -1.1431088318026557, -1.3941120292799982, -0.600228964627338, -1.1541797955478217, -0.7781235640434054, -0.23199227473309697, -0.6766541115502999, -0.6060786503074381, -0.1460913062801027, -0.313254791579593, -1.3941120292797025, -0.08401019331137384, -0.6849785361003224, -0.11728995781584431, -0.6448672849535083, -0.061005185082140846, -0.696665644972878, 0.8050030085184599, -0.93172269158842, -0.5047066541944822, 1.594954482548039, -0.3605046097564933, -0.8770417518359997, 1.0700223378285516, 0.885330613658612, 0.9867060212629067, 0.8079932763650283, 0.8556193380705776, 1.0232448039321123, -0.2152414315835871, -0.673708539944587, 0.08207306445145493, 0.027661180829928123, -0.12966718313641723, -0.5442292998486443, -0.6955617397239386, -0.06185017479986451, -0.3848739109944551, -0.8261104986931076, 0.8449839809550284, 0.7408666322852554, 0.8093566043761296, 0.9744789630228632, -0.06306507528691174, 0.08654668605934031, 0.45150856528971234, 0.851997744894349, 0.7732395735658504, 0.6856414462213195, 0.7270310814847922, 0.7461492774981755, -0.7968666924827043, -0.695657312284772, 0.15284707005961584, 0.033676792804775535, 0.3198971345153884, 0.33613891588219086, 0.48042979335271074, 0.9092697964640688, 0.843129351500528, 1.0130111231492587, -0.6315782166424903, 0.07556127048273582, -0.23310093120734346, -1.057133899896658, -0.3625462904080962, -0.25168859817487366, 0.502987105796252, 0.22040236155620133, -0.34041459951909314, -0.9203750803841595, -0.5629991155166517, -0.38729181997211354, -0.9039651892478516, -0.6383660789144249, -0.26856035644237997, -0.9699180009091325, -0.47074259176214606, -0.2516885981748738, 0.5029871057962522, 0.22040236155620138, 0.09449035135224715, -0.2861636961005306, -0.6383660789212338, -0.18108686396893758, 0.5290586004590768, -0.11117304324074571, 0.5851085916142693, -0.19089378117782035, 0.49553074557209537, 0.6280807718391146, -0.5684560600921227, 0.1691020097040778, 1.5337077626513491, -0.14311226977161545, 0.4217089244279167, 0.7774727368613263, 0.9441492408213924, 0.940767369298619, 0.8095416064274725, 0.7843857713612434, 0.9578464112377769, 0.01755591410117366, -1.3140226628514382, -0.4116392035917742, 0.3588920197032522, -0.6947269410223476, 0.5154597962388747, -0.17358891770575272, -0.3032228684639271, -0.10461403324679723, -0.6290386063643402]}],                        {\"template\": {\"data\": {\"bar\": [{\"error_x\": {\"color\": \"#2a3f5f\"}, \"error_y\": {\"color\": \"#2a3f5f\"}, \"marker\": {\"line\": {\"color\": \"#E5ECF6\", \"width\": 0.5}}, \"type\": \"bar\"}], \"barpolar\": [{\"marker\": {\"line\": {\"color\": \"#E5ECF6\", \"width\": 0.5}}, \"type\": \"barpolar\"}], \"carpet\": [{\"aaxis\": {\"endlinecolor\": \"#2a3f5f\", \"gridcolor\": \"white\", \"linecolor\": \"white\", \"minorgridcolor\": \"white\", \"startlinecolor\": \"#2a3f5f\"}, \"baxis\": {\"endlinecolor\": \"#2a3f5f\", \"gridcolor\": \"white\", \"linecolor\": \"white\", \"minorgridcolor\": \"white\", \"startlinecolor\": \"#2a3f5f\"}, \"type\": \"carpet\"}], \"choropleth\": [{\"colorbar\": {\"outlinewidth\": 0, \"ticks\": \"\"}, \"type\": \"choropleth\"}], \"contour\": [{\"colorbar\": {\"outlinewidth\": 0, \"ticks\": \"\"}, \"colorscale\": [[0.0, \"#0d0887\"], [0.1111111111111111, \"#46039f\"], [0.2222222222222222, \"#7201a8\"], [0.3333333333333333, \"#9c179e\"], [0.4444444444444444, \"#bd3786\"], [0.5555555555555556, \"#d8576b\"], [0.6666666666666666, \"#ed7953\"], [0.7777777777777778, \"#fb9f3a\"], [0.8888888888888888, \"#fdca26\"], [1.0, \"#f0f921\"]], \"type\": \"contour\"}], \"contourcarpet\": [{\"colorbar\": {\"outlinewidth\": 0, \"ticks\": \"\"}, \"type\": \"contourcarpet\"}], \"heatmap\": [{\"colorbar\": {\"outlinewidth\": 0, \"ticks\": \"\"}, \"colorscale\": [[0.0, \"#0d0887\"], [0.1111111111111111, \"#46039f\"], [0.2222222222222222, \"#7201a8\"], [0.3333333333333333, \"#9c179e\"], [0.4444444444444444, \"#bd3786\"], [0.5555555555555556, \"#d8576b\"], [0.6666666666666666, \"#ed7953\"], [0.7777777777777778, \"#fb9f3a\"], [0.8888888888888888, \"#fdca26\"], [1.0, \"#f0f921\"]], \"type\": \"heatmap\"}], \"heatmapgl\": [{\"colorbar\": {\"outlinewidth\": 0, \"ticks\": \"\"}, \"colorscale\": [[0.0, \"#0d0887\"], [0.1111111111111111, \"#46039f\"], [0.2222222222222222, \"#7201a8\"], [0.3333333333333333, \"#9c179e\"], [0.4444444444444444, \"#bd3786\"], [0.5555555555555556, \"#d8576b\"], [0.6666666666666666, \"#ed7953\"], [0.7777777777777778, \"#fb9f3a\"], [0.8888888888888888, \"#fdca26\"], [1.0, \"#f0f921\"]], \"type\": \"heatmapgl\"}], \"histogram\": [{\"marker\": {\"colorbar\": {\"outlinewidth\": 0, \"ticks\": \"\"}}, \"type\": \"histogram\"}], \"histogram2d\": [{\"colorbar\": {\"outlinewidth\": 0, \"ticks\": \"\"}, \"colorscale\": [[0.0, \"#0d0887\"], [0.1111111111111111, \"#46039f\"], [0.2222222222222222, \"#7201a8\"], [0.3333333333333333, \"#9c179e\"], [0.4444444444444444, \"#bd3786\"], [0.5555555555555556, \"#d8576b\"], [0.6666666666666666, \"#ed7953\"], [0.7777777777777778, \"#fb9f3a\"], [0.8888888888888888, \"#fdca26\"], [1.0, \"#f0f921\"]], \"type\": \"histogram2d\"}], \"histogram2dcontour\": [{\"colorbar\": {\"outlinewidth\": 0, \"ticks\": \"\"}, \"colorscale\": [[0.0, \"#0d0887\"], [0.1111111111111111, \"#46039f\"], [0.2222222222222222, \"#7201a8\"], [0.3333333333333333, \"#9c179e\"], [0.4444444444444444, \"#bd3786\"], [0.5555555555555556, \"#d8576b\"], [0.6666666666666666, \"#ed7953\"], [0.7777777777777778, \"#fb9f3a\"], [0.8888888888888888, \"#fdca26\"], [1.0, \"#f0f921\"]], \"type\": \"histogram2dcontour\"}], \"mesh3d\": [{\"colorbar\": {\"outlinewidth\": 0, \"ticks\": \"\"}, \"type\": \"mesh3d\"}], \"parcoords\": [{\"line\": {\"colorbar\": {\"outlinewidth\": 0, \"ticks\": \"\"}}, \"type\": \"parcoords\"}], \"pie\": [{\"automargin\": true, \"type\": \"pie\"}], \"scatter\": [{\"marker\": {\"colorbar\": {\"outlinewidth\": 0, \"ticks\": \"\"}}, \"type\": \"scatter\"}], \"scatter3d\": [{\"line\": {\"colorbar\": {\"outlinewidth\": 0, \"ticks\": \"\"}}, \"marker\": {\"colorbar\": {\"outlinewidth\": 0, \"ticks\": \"\"}}, \"type\": \"scatter3d\"}], \"scattercarpet\": [{\"marker\": {\"colorbar\": {\"outlinewidth\": 0, \"ticks\": \"\"}}, \"type\": \"scattercarpet\"}], \"scattergeo\": [{\"marker\": {\"colorbar\": {\"outlinewidth\": 0, \"ticks\": \"\"}}, \"type\": \"scattergeo\"}], \"scattergl\": [{\"marker\": {\"colorbar\": {\"outlinewidth\": 0, \"ticks\": \"\"}}, \"type\": \"scattergl\"}], \"scattermapbox\": [{\"marker\": {\"colorbar\": {\"outlinewidth\": 0, \"ticks\": \"\"}}, \"type\": \"scattermapbox\"}], \"scatterpolar\": [{\"marker\": {\"colorbar\": {\"outlinewidth\": 0, \"ticks\": \"\"}}, \"type\": \"scatterpolar\"}], \"scatterpolargl\": [{\"marker\": {\"colorbar\": {\"outlinewidth\": 0, \"ticks\": \"\"}}, \"type\": \"scatterpolargl\"}], \"scatterternary\": [{\"marker\": {\"colorbar\": {\"outlinewidth\": 0, \"ticks\": \"\"}}, \"type\": \"scatterternary\"}], \"surface\": [{\"colorbar\": {\"outlinewidth\": 0, \"ticks\": \"\"}, \"colorscale\": [[0.0, \"#0d0887\"], [0.1111111111111111, \"#46039f\"], [0.2222222222222222, \"#7201a8\"], [0.3333333333333333, \"#9c179e\"], [0.4444444444444444, \"#bd3786\"], [0.5555555555555556, \"#d8576b\"], [0.6666666666666666, \"#ed7953\"], [0.7777777777777778, \"#fb9f3a\"], [0.8888888888888888, \"#fdca26\"], [1.0, \"#f0f921\"]], \"type\": \"surface\"}], \"table\": [{\"cells\": {\"fill\": {\"color\": \"#EBF0F8\"}, \"line\": {\"color\": \"white\"}}, \"header\": {\"fill\": {\"color\": \"#C8D4E3\"}, \"line\": {\"color\": \"white\"}}, \"type\": \"table\"}]}, \"layout\": {\"annotationdefaults\": {\"arrowcolor\": \"#2a3f5f\", \"arrowhead\": 0, \"arrowwidth\": 1}, \"coloraxis\": {\"colorbar\": {\"outlinewidth\": 0, \"ticks\": \"\"}}, \"colorscale\": {\"diverging\": [[0, \"#8e0152\"], [0.1, \"#c51b7d\"], [0.2, \"#de77ae\"], [0.3, \"#f1b6da\"], [0.4, \"#fde0ef\"], [0.5, \"#f7f7f7\"], [0.6, \"#e6f5d0\"], [0.7, \"#b8e186\"], [0.8, \"#7fbc41\"], [0.9, \"#4d9221\"], [1, \"#276419\"]], \"sequential\": [[0.0, \"#0d0887\"], [0.1111111111111111, \"#46039f\"], [0.2222222222222222, \"#7201a8\"], [0.3333333333333333, \"#9c179e\"], [0.4444444444444444, \"#bd3786\"], [0.5555555555555556, \"#d8576b\"], [0.6666666666666666, \"#ed7953\"], [0.7777777777777778, \"#fb9f3a\"], [0.8888888888888888, \"#fdca26\"], [1.0, \"#f0f921\"]], \"sequentialminus\": [[0.0, \"#0d0887\"], [0.1111111111111111, \"#46039f\"], [0.2222222222222222, \"#7201a8\"], [0.3333333333333333, \"#9c179e\"], [0.4444444444444444, \"#bd3786\"], [0.5555555555555556, \"#d8576b\"], [0.6666666666666666, \"#ed7953\"], [0.7777777777777778, \"#fb9f3a\"], [0.8888888888888888, \"#fdca26\"], [1.0, \"#f0f921\"]]}, \"colorway\": [\"#636efa\", \"#EF553B\", \"#00cc96\", \"#ab63fa\", \"#FFA15A\", \"#19d3f3\", \"#FF6692\", \"#B6E880\", \"#FF97FF\", \"#FECB52\"], \"font\": {\"color\": \"#2a3f5f\"}, \"geo\": {\"bgcolor\": \"white\", \"lakecolor\": \"white\", \"landcolor\": \"#E5ECF6\", \"showlakes\": true, \"showland\": true, \"subunitcolor\": \"white\"}, \"hoverlabel\": {\"align\": \"left\"}, \"hovermode\": \"closest\", \"mapbox\": {\"style\": \"light\"}, \"paper_bgcolor\": \"white\", \"plot_bgcolor\": \"#E5ECF6\", \"polar\": {\"angularaxis\": {\"gridcolor\": \"white\", \"linecolor\": \"white\", \"ticks\": \"\"}, \"bgcolor\": \"#E5ECF6\", \"radialaxis\": {\"gridcolor\": \"white\", \"linecolor\": \"white\", \"ticks\": \"\"}}, \"scene\": {\"xaxis\": {\"backgroundcolor\": \"#E5ECF6\", \"gridcolor\": \"white\", \"gridwidth\": 2, \"linecolor\": \"white\", \"showbackground\": true, \"ticks\": \"\", \"zerolinecolor\": \"white\"}, \"yaxis\": {\"backgroundcolor\": \"#E5ECF6\", \"gridcolor\": \"white\", \"gridwidth\": 2, \"linecolor\": \"white\", \"showbackground\": true, \"ticks\": \"\", \"zerolinecolor\": \"white\"}, \"zaxis\": {\"backgroundcolor\": \"#E5ECF6\", \"gridcolor\": \"white\", \"gridwidth\": 2, \"linecolor\": \"white\", \"showbackground\": true, \"ticks\": \"\", \"zerolinecolor\": \"white\"}}, \"shapedefaults\": {\"line\": {\"color\": \"#2a3f5f\"}}, \"ternary\": {\"aaxis\": {\"gridcolor\": \"white\", \"linecolor\": \"white\", \"ticks\": \"\"}, \"baxis\": {\"gridcolor\": \"white\", \"linecolor\": \"white\", \"ticks\": \"\"}, \"bgcolor\": \"#E5ECF6\", \"caxis\": {\"gridcolor\": \"white\", \"linecolor\": \"white\", \"ticks\": \"\"}}, \"title\": {\"x\": 0.05}, \"xaxis\": {\"automargin\": true, \"gridcolor\": \"white\", \"linecolor\": \"white\", \"ticks\": \"\", \"title\": {\"standoff\": 15}, \"zerolinecolor\": \"white\", \"zerolinewidth\": 2}, \"yaxis\": {\"automargin\": true, \"gridcolor\": \"white\", \"linecolor\": \"white\", \"ticks\": \"\", \"title\": {\"standoff\": 15}, \"zerolinecolor\": \"white\", \"zerolinewidth\": 2}}}},                        {\"responsive\": true}                    ).then(function(){\n",
              "                            \n",
              "var gd = document.getElementById('773987be-af88-4bdb-9173-55dc79eeefaf');\n",
              "var x = new MutationObserver(function (mutations, observer) {{\n",
              "        var display = window.getComputedStyle(gd).display;\n",
              "        if (!display || display === 'none') {{\n",
              "            console.log([gd, 'removed!']);\n",
              "            Plotly.purge(gd);\n",
              "            observer.disconnect();\n",
              "        }}\n",
              "}});\n",
              "\n",
              "// Listen for the removal of the full notebook cells\n",
              "var notebookContainer = gd.closest('#notebook-container');\n",
              "if (notebookContainer) {{\n",
              "    x.observe(notebookContainer, {childList: true});\n",
              "}}\n",
              "\n",
              "// Listen for the clearing of the current output cell\n",
              "var outputEl = gd.closest('.output');\n",
              "if (outputEl) {{\n",
              "    x.observe(outputEl, {childList: true});\n",
              "}}\n",
              "\n",
              "                        })                };                });            </script>        </div>"
            ]
          },
          "metadata": {
            "tags": []
          }
        }
      ]
    },
    {
      "cell_type": "code",
      "metadata": {
        "id": "p-GCQlDN4-IH",
        "outputId": "6be0987c-6325-4f54-cb5f-97a9d8bd4712"
      },
      "source": [
        "a = pd.DataFrame(new_da)\n",
        "keys= ['cluster_0','cluster_1','cluster_2','cluster_3']\n",
        "dict_ ={}\n",
        "for key in keys:\n",
        "   # print(key.split('_')[-1])\n",
        "    dict_[key] = [data.columns[12:][i] for i in list( a[a['cluster']==int(key.split('_')[-1])].index)]\n",
        "dict_"
      ],
      "execution_count": null,
      "outputs": [
        {
          "output_type": "execute_result",
          "data": {
            "text/plain": [
              "{'cluster_0': ['FEATURE_maximum_value_ML_opened_eyes',\n",
              "  'FEATURE_maximum_value_AP_opened_eyes',\n",
              "  'FEATURE_maximum_value_Radius_opened_eyes',\n",
              "  'FEATURE_mean_velocity_AP_opened_eyes',\n",
              "  'FEATURE_mean_velocity_ML_AND_AP_opened_eyes',\n",
              "  'FEATURE_mean_distance_ML_opened_eyes',\n",
              "  'FEATURE_mean_distance_AP_opened_eyes',\n",
              "  'FEATURE_mean_distance_Radius_opened_eyes',\n",
              "  'FEATURE_RMS_ML_opened_eyes',\n",
              "  'FEATURE_RMS_AP_opened_eyes',\n",
              "  'FEATURE_RMS_Radius_opened_eyes',\n",
              "  'FEATURE_amplitude_ML_opened_eyes',\n",
              "  'FEATURE_amplitude_AP_opened_eyes',\n",
              "  'FEATURE_amplitude_ML_AND_AP_opened_eyes',\n",
              "  'FEATURE_sway_length_AP_opened_eyes',\n",
              "  'FEATURE_sway_length_ML_AND_AP_opened_eyes',\n",
              "  'FEATURE_Quotient_both_direction_ML_AND_AP_opened_eyes',\n",
              "  'FEATURE_planar_deviation_ML_AND_AP_opened_eyes',\n",
              "  'FEATURE_peak_velocity_all_SPD_AP_opened_eyes',\n",
              "  'FEATURE_peak_velocity_pos_SPD_AP_opened_eyes',\n",
              "  'FEATURE_peak_velocity_neg_SPD_AP_opened_eyes',\n",
              "  'FEATURE_mean_distance_peak_Sway_Density_opened_eyes',\n",
              "  'FEATURE_phase_plane_parameters_AP_opened_eyes',\n",
              "  'FEATURE_critical_time_Diffusion_AP_opened_eyes',\n",
              "  'FEATURE_maximum_value_AP_closed_eyes',\n",
              "  'FEATURE_mean_distance_AP_closed_eyes',\n",
              "  'FEATURE_mean_distance_Radius_closed_eyes',\n",
              "  'FEATURE_RMS_AP_closed_eyes',\n",
              "  'FEATURE_RMS_Radius_closed_eyes',\n",
              "  'FEATURE_amplitude_AP_closed_eyes',\n",
              "  'FEATURE_amplitude_ML_AND_AP_closed_eyes',\n",
              "  'FEATURE_Quotient_both_direction_ML_AND_AP_closed_eyes',\n",
              "  'FEATURE_planar_deviation_ML_AND_AP_closed_eyes',\n",
              "  'FEATURE_mean_distance_peak_Sway_Density_closed_eyes',\n",
              "  'FEATURE_critical_time_Diffusion_ML_closed_eyes',\n",
              "  'FEATURE_long_time_diffusion_Diffusion_AP_closed_eyes',\n",
              "  'FEATURE_critical_time_Diffusion_AP_closed_eyes'],\n",
              " 'cluster_1': ['FEATURE_frequency_dispersion_Power_Spectrum_Density_ML_opened_eyes',\n",
              "  'FEATURE_frequency_dispersion_Power_Spectrum_Density_AP_opened_eyes',\n",
              "  'FEATURE_principal_sway_direction_ML_AND_AP_opened_eyes',\n",
              "  'FEATURE_long_time_diffusion_Diffusion_ML_opened_eyes',\n",
              "  'FEATURE_long_time_diffusion_Diffusion_AP_opened_eyes',\n",
              "  'FEATURE_long_time_scaling_Diffusion_AP_opened_eyes',\n",
              "  'FEATURE_zero_crossing_SPD_ML_closed_eyes',\n",
              "  'FEATURE_frequency_dispersion_Power_Spectrum_Density_ML_closed_eyes',\n",
              "  'FEATURE_frequency_dispersion_Power_Spectrum_Density_AP_closed_eyes',\n",
              "  'FEATURE_principal_sway_direction_ML_AND_AP_closed_eyes',\n",
              "  'FEATURE_long_time_diffusion_Diffusion_ML_closed_eyes',\n",
              "  'FEATURE_long_time_scaling_Diffusion_ML_closed_eyes',\n",
              "  'FEATURE_long_time_scaling_Diffusion_AP_closed_eyes'],\n",
              " 'cluster_2': ['FEATURE_frequency_mode_Power_Spectrum_Density_AP_opened_eyes',\n",
              "  'FEATURE_total_power_Power_Spectrum_Density_ML_opened_eyes',\n",
              "  'FEATURE_total_power_Power_Spectrum_Density_AP_opened_eyes',\n",
              "  'FEATURE_energy_content_0_05_Power_Spectrum_Density_ML_opened_eyes',\n",
              "  'FEATURE_energy_content_0_05_Power_Spectrum_Density_AP_opened_eyes',\n",
              "  'FEATURE_energy_content_05_2_Power_Spectrum_Density_ML_opened_eyes',\n",
              "  'FEATURE_energy_content_05_2_Power_Spectrum_Density_AP_opened_eyes',\n",
              "  'FEATURE_energy_content_2_inf_Power_Spectrum_Density_ML_opened_eyes',\n",
              "  'FEATURE_energy_content_2_inf_Power_Spectrum_Density_AP_opened_eyes',\n",
              "  'FEATURE_frequency_quotient_Power_Spectrum_Density_ML_opened_eyes',\n",
              "  'FEATURE_frequency_quotient_Power_Spectrum_Density_AP_opened_eyes',\n",
              "  'FEATURE_confidence_ellipse_area_ML_AND_AP_opened_eyes',\n",
              "  'FEATURE_mean_velocity_ML_opened_eyes',\n",
              "  'FEATURE_sway_length_ML_opened_eyes',\n",
              "  'FEATURE_Coefficient_sway_direction_ML_AND_AP_opened_eyes',\n",
              "  'FEATURE_peak_velocity_all_SPD_ML_opened_eyes',\n",
              "  'FEATURE_peak_velocity_pos_SPD_ML_opened_eyes',\n",
              "  'FEATURE_peak_velocity_neg_SPD_ML_opened_eyes',\n",
              "  'FEATURE_sway_area_per_second_ML_AND_AP_opened_eyes',\n",
              "  'FEATURE_phase_plane_parameters_ML_opened_eyes',\n",
              "  'FEATURE_short_time_diffusion_Diffusion_ML_opened_eyes',\n",
              "  'FEATURE_critical_time_Diffusion_ML_opened_eyes',\n",
              "  'FEATURE_critical_displacement_Diffusion_ML_opened_eyes',\n",
              "  'FEATURE_short_time_diffusion_Diffusion_AP_opened_eyes',\n",
              "  'FEATURE_critical_displacement_Diffusion_AP_opened_eyes',\n",
              "  'FEATURE_frequency_mode_Power_Spectrum_Density_AP_closed_eyes',\n",
              "  'FEATURE_total_power_Power_Spectrum_Density_ML_closed_eyes',\n",
              "  'FEATURE_total_power_Power_Spectrum_Density_AP_closed_eyes',\n",
              "  'FEATURE_energy_content_0_05_Power_Spectrum_Density_ML_closed_eyes',\n",
              "  'FEATURE_energy_content_0_05_Power_Spectrum_Density_AP_closed_eyes',\n",
              "  'FEATURE_energy_content_05_2_Power_Spectrum_Density_ML_closed_eyes',\n",
              "  'FEATURE_energy_content_05_2_Power_Spectrum_Density_AP_closed_eyes',\n",
              "  'FEATURE_energy_content_2_inf_Power_Spectrum_Density_ML_closed_eyes',\n",
              "  'FEATURE_energy_content_2_inf_Power_Spectrum_Density_AP_closed_eyes',\n",
              "  'FEATURE_frequency_quotient_Power_Spectrum_Density_ML_closed_eyes',\n",
              "  'FEATURE_frequency_quotient_Power_Spectrum_Density_AP_closed_eyes',\n",
              "  'FEATURE_confidence_ellipse_area_ML_AND_AP_closed_eyes',\n",
              "  'FEATURE_maximum_value_ML_closed_eyes',\n",
              "  'FEATURE_maximum_value_Radius_closed_eyes',\n",
              "  'FEATURE_mean_velocity_ML_closed_eyes',\n",
              "  'FEATURE_mean_velocity_AP_closed_eyes',\n",
              "  'FEATURE_mean_velocity_ML_AND_AP_closed_eyes',\n",
              "  'FEATURE_mean_distance_ML_closed_eyes',\n",
              "  'FEATURE_RMS_ML_closed_eyes',\n",
              "  'FEATURE_amplitude_ML_closed_eyes',\n",
              "  'FEATURE_sway_length_ML_closed_eyes',\n",
              "  'FEATURE_sway_length_AP_closed_eyes',\n",
              "  'FEATURE_sway_length_ML_AND_AP_closed_eyes',\n",
              "  'FEATURE_Coefficient_sway_direction_ML_AND_AP_closed_eyes',\n",
              "  'FEATURE_peak_velocity_all_SPD_ML_closed_eyes',\n",
              "  'FEATURE_peak_velocity_all_SPD_AP_closed_eyes',\n",
              "  'FEATURE_peak_velocity_pos_SPD_ML_closed_eyes',\n",
              "  'FEATURE_peak_velocity_pos_SPD_AP_closed_eyes',\n",
              "  'FEATURE_peak_velocity_neg_SPD_ML_closed_eyes',\n",
              "  'FEATURE_peak_velocity_neg_SPD_AP_closed_eyes',\n",
              "  'FEATURE_sway_area_per_second_ML_AND_AP_closed_eyes',\n",
              "  'FEATURE_phase_plane_parameters_ML_closed_eyes',\n",
              "  'FEATURE_phase_plane_parameters_AP_closed_eyes',\n",
              "  'FEATURE_short_time_diffusion_Diffusion_ML_closed_eyes',\n",
              "  'FEATURE_critical_displacement_Diffusion_ML_closed_eyes',\n",
              "  'FEATURE_short_time_diffusion_Diffusion_AP_closed_eyes',\n",
              "  'FEATURE_critical_displacement_Diffusion_AP_closed_eyes'],\n",
              " 'cluster_3': ['FEATURE_zero_crossing_SPD_ML_opened_eyes',\n",
              "  'FEATURE_zero_crossing_SPD_AP_opened_eyes',\n",
              "  'FEATURE_frequency_mode_Power_Spectrum_Density_ML_opened_eyes',\n",
              "  'FEATURE_power_frequency_50_Power_Spectrum_Density_ML_opened_eyes',\n",
              "  'FEATURE_power_frequency_50_Power_Spectrum_Density_AP_opened_eyes',\n",
              "  'FEATURE_power_frequency_95_Power_Spectrum_Density_ML_opened_eyes',\n",
              "  'FEATURE_power_frequency_95_Power_Spectrum_Density_AP_opened_eyes',\n",
              "  'FEATURE_centroid_frequency_Power_Spectrum_Density_ML_opened_eyes',\n",
              "  'FEATURE_centroid_frequency_Power_Spectrum_Density_AP_opened_eyes',\n",
              "  'FEATURE_mean_peak_Sway_Density_opened_eyes',\n",
              "  'FEATURE_length_over_area_ML_AND_AP_opened_eyes',\n",
              "  'FEATURE_mean_frequency_ML_opened_eyes',\n",
              "  'FEATURE_mean_frequency_AP_opened_eyes',\n",
              "  'FEATURE_mean_frequency_ML_AND_AP_opened_eyes',\n",
              "  'FEATURE_fractal_dimension_pd_ML_AND_AP_opened_eyes',\n",
              "  'FEATURE_fractal_dimension_cc_ML_AND_AP_opened_eyes',\n",
              "  'FEATURE_fractal_dimension_ce_ML_AND_AP_opened_eyes',\n",
              "  'FEATURE_long_time_scaling_Diffusion_ML_opened_eyes',\n",
              "  'FEATURE_zero_crossing_SPD_AP_closed_eyes',\n",
              "  'FEATURE_frequency_mode_Power_Spectrum_Density_ML_closed_eyes',\n",
              "  'FEATURE_power_frequency_50_Power_Spectrum_Density_ML_closed_eyes',\n",
              "  'FEATURE_power_frequency_50_Power_Spectrum_Density_AP_closed_eyes',\n",
              "  'FEATURE_power_frequency_95_Power_Spectrum_Density_ML_closed_eyes',\n",
              "  'FEATURE_power_frequency_95_Power_Spectrum_Density_AP_closed_eyes',\n",
              "  'FEATURE_centroid_frequency_Power_Spectrum_Density_ML_closed_eyes',\n",
              "  'FEATURE_centroid_frequency_Power_Spectrum_Density_AP_closed_eyes',\n",
              "  'FEATURE_mean_peak_Sway_Density_closed_eyes',\n",
              "  'FEATURE_length_over_area_ML_AND_AP_closed_eyes',\n",
              "  'FEATURE_mean_frequency_ML_closed_eyes',\n",
              "  'FEATURE_mean_frequency_AP_closed_eyes',\n",
              "  'FEATURE_mean_frequency_ML_AND_AP_closed_eyes',\n",
              "  'FEATURE_fractal_dimension_pd_ML_AND_AP_closed_eyes',\n",
              "  'FEATURE_fractal_dimension_cc_ML_AND_AP_closed_eyes',\n",
              "  'FEATURE_fractal_dimension_ce_ML_AND_AP_closed_eyes']}"
            ]
          },
          "metadata": {
            "tags": []
          },
          "execution_count": 14
        }
      ]
    },
    {
      "cell_type": "code",
      "metadata": {
        "id": "VvtLKT544-II"
      },
      "source": [
        ""
      ],
      "execution_count": null,
      "outputs": []
    }
  ]
}